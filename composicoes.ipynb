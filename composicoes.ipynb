{
 "cells": [
  {
   "cell_type": "markdown",
   "metadata": {},
   "source": [
    "<a href=\"#\">\n",
    "    <img alt=\"Caixa SINAPI logo\" src=\"./img/sinapi_logo.jpg\" style=\"height:140px; align:left\">\n",
    "</a>"
   ]
  },
  {
   "cell_type": "markdown",
   "metadata": {},
   "source": [
    "# Composições de custos analíticas"
   ]
  },
  {
   "cell_type": "markdown",
   "metadata": {},
   "source": [
    "<h1>Contexto</h1>"
   ]
  },
  {
   "cell_type": "markdown",
   "metadata": {},
   "source": [
    "<div style=\"text-align:justify;\">\n",
    "Tratamento de dados de composições de custo unitário, para uso em um [bot do telegram](https://github.com/thiagorlopes/seduc-bot) para engenheiros orçamentistas e fiscais de obra da SEDUC-GO. O relatório foi construído a partir de 3 fontes de composições analíticas. A primeira delas consiste na [SINAPI DEZ/2020](https://www.caixa.gov.br/poder-publico/modernizacao-gestao/sinapi/referencias-precos-insumos/Paginas/default.aspx). A segunda fonte se refere aos dados publicados pela tabela de referência [GOINFRA NOV/2020](http://www.goinfra.go.gov.br/Tabela-de-Composicao/114). Por fim, também foram inseridas composições elaboradas pela [Secretaria de Estado da Educação (SEE-GO)](http://seduc.go.gov.br/). Todos os preços são DESONERADOS e referentes ao estado de Goiás.\n",
    "</div>"
   ]
  },
  {
   "cell_type": "markdown",
   "metadata": {},
   "source": [
    "<h2>Sumário</h2>"
   ]
  },
  {
   "cell_type": "markdown",
   "metadata": {},
   "source": [
    "1) [Introdução](#intro)\n",
    "2) [Análise exploratória](#data_exploration)<br>\n",
    "    1) [Qual a estrutura dos datasets?](#data_structure)<br>\n",
    "        1) [Composições sintéticas GOINFRA](#goinfra_sintetica_structure)<br>\n",
    "        2) [Composições analíticas GOINFRA](#goinfra_analitica_structure)<br>\n",
    "        3) [Composições analíticas SINAPI](#sinapi_analitica_structure)<br>\n",
    "    2) [Há inconsistências nos dados disponíveis?](#data_inconsistency)<br>\n",
    "        1) [Composições sintéticas GOINFRA](#goinfra_sintetica_inconsistency)<br>\n",
    "        2) [Composições_analíticas_GOINFRA](#goinfra_analitica_inconsistency)<br>\n",
    "        3) [Composições analíticas SINAPI](#sinapi_analitica_inconsistency)<br>\n",
    "    3) [Tratamento de dados](#data_cleaning)<br>\n",
    "        1) [Composições sintéticas GOINFRA](#goinfra_sintetica_cleaning)<br>\n",
    "        2) [Composições analíticas GOINFRA](#goinfra_analitica_cleaning)<br>\n",
    "        3) [Composições sintéticas SINAPI](#sinapi_sintetica_cleaning)<br>\n",
    "        4) [Composições analíticas SINAPI](#sinapi_analitica_cleaning)<br>\n",
    "5) [Conclusão](#conclusion)"
   ]
  },
  {
   "cell_type": "markdown",
   "metadata": {},
   "source": [
    "# 2 Análise Exploratória <a id=\"data_exploration\"></a>"
   ]
  },
  {
   "cell_type": "markdown",
   "metadata": {},
   "source": [
    "#### Importação de bibliotecas"
   ]
  },
  {
   "cell_type": "markdown",
   "metadata": {},
   "source": [
    "Dada sua elevada flexibilidade e capacidade de processamento, optou-se por analisar os dados com a biblioteca pandas."
   ]
  },
  {
   "cell_type": "code",
   "execution_count": 1,
   "metadata": {},
   "outputs": [
    {
     "name": "stdout",
     "output_type": "stream",
     "text": [
      "Requirement already satisfied: xlrd in /home/thiago/miniconda3/envs/data-analysis/lib/python3.9/site-packages (2.0.1)\n"
     ]
    }
   ],
   "source": [
    "import pandas as pd\n",
    "from utils import helpers\n",
    "\n",
    "!pip install xlrd"
   ]
  },
  {
   "cell_type": "markdown",
   "metadata": {},
   "source": [
    "#### Arquivos fonte"
   ]
  },
  {
   "cell_type": "markdown",
   "metadata": {},
   "source": [
    "A cada atualização publicada pelo órgãos, os arquivos devem ser substituídos na pasta app/data."
   ]
  },
  {
   "cell_type": "code",
   "execution_count": 2,
   "metadata": {},
   "outputs": [],
   "source": [
    "goinfra_sintetica_filepath = \"./data/goinfra-composicoes-sinteticas-11.2020.xls\"\n",
    "goinfra_analitica_filepath = \"./data/goinfra-composicoes-analiticas-11.2020.xls\"\n",
    "sinapi_analitica_filepath = \"./data/sinapi-composicoes-analiticas-12.2020.xls\""
   ]
  },
  {
   "cell_type": "markdown",
   "metadata": {},
   "source": [
    "### 2.1 Qual a estrutura dos datasets?<a id=\"data_structure\"></a>"
   ]
  },
  {
   "cell_type": "markdown",
   "metadata": {},
   "source": [
    "#### a. Composições sintéticas GOINFRA<a id=\"goinfra_sintetica_structure\"></a>"
   ]
  },
  {
   "cell_type": "markdown",
   "metadata": {},
   "source": [
    "Devido à estrutura do arquivo em excel, as 6 primeiras linhas são desconsideradas."
   ]
  },
  {
   "cell_type": "code",
   "execution_count": 3,
   "metadata": {},
   "outputs": [
    {
     "data": {
      "text/html": [
       "<div>\n",
       "<style scoped>\n",
       "    .dataframe tbody tr th:only-of-type {\n",
       "        vertical-align: middle;\n",
       "    }\n",
       "\n",
       "    .dataframe tbody tr th {\n",
       "        vertical-align: top;\n",
       "    }\n",
       "\n",
       "    .dataframe thead th {\n",
       "        text-align: right;\n",
       "    }\n",
       "</style>\n",
       "<table border=\"1\" class=\"dataframe\">\n",
       "  <thead>\n",
       "    <tr style=\"text-align: right;\">\n",
       "      <th></th>\n",
       "      <th>CODIGO DA COMPOSICAO</th>\n",
       "      <th>DESCRICAO DA COMPOSICAO</th>\n",
       "      <th>Unnamed: 2</th>\n",
       "      <th>Unnamed: 3</th>\n",
       "      <th>Unnamed: 4</th>\n",
       "      <th>Unnamed: 5</th>\n",
       "      <th>UNIDADE</th>\n",
       "      <th>Unnamed: 7</th>\n",
       "      <th>CUSTO MATERIAL</th>\n",
       "      <th>CUSTO MAO DE OBRA</th>\n",
       "      <th>Unnamed: 10</th>\n",
       "      <th>CUSTO TOTAL</th>\n",
       "    </tr>\n",
       "  </thead>\n",
       "  <tbody>\n",
       "    <tr>\n",
       "      <th>0</th>\n",
       "      <td>164</td>\n",
       "      <td>SERVIÇOS PRELIMINARES</td>\n",
       "      <td>NaN</td>\n",
       "      <td>NaN</td>\n",
       "      <td>NaN</td>\n",
       "      <td>NaN</td>\n",
       "      <td>NaN</td>\n",
       "      <td>NaN</td>\n",
       "      <td>NaN</td>\n",
       "      <td>NaN</td>\n",
       "      <td>NaN</td>\n",
       "      <td>NaN</td>\n",
       "    </tr>\n",
       "    <tr>\n",
       "      <th>1</th>\n",
       "      <td>020000</td>\n",
       "      <td>SERVIÇOS PRELIMINARES</td>\n",
       "      <td>NaN</td>\n",
       "      <td>NaN</td>\n",
       "      <td>NaN</td>\n",
       "      <td>NaN</td>\n",
       "      <td>S/U</td>\n",
       "      <td>NaN</td>\n",
       "      <td>0.00</td>\n",
       "      <td>0.00</td>\n",
       "      <td>NaN</td>\n",
       "      <td>0.00</td>\n",
       "    </tr>\n",
       "    <tr>\n",
       "      <th>2</th>\n",
       "      <td>020100</td>\n",
       "      <td>DEMOLIÇÃO MANUAL - COBERTURA TELHA METÁLICA C/...</td>\n",
       "      <td>NaN</td>\n",
       "      <td>NaN</td>\n",
       "      <td>NaN</td>\n",
       "      <td>NaN</td>\n",
       "      <td>m2</td>\n",
       "      <td>NaN</td>\n",
       "      <td>0.00</td>\n",
       "      <td>2.33</td>\n",
       "      <td>NaN</td>\n",
       "      <td>2.33</td>\n",
       "    </tr>\n",
       "    <tr>\n",
       "      <th>3</th>\n",
       "      <td>020101</td>\n",
       "      <td>DEMOLICAO MANUAL COBERTURA TELHA CERAMICA C/ T...</td>\n",
       "      <td>NaN</td>\n",
       "      <td>NaN</td>\n",
       "      <td>NaN</td>\n",
       "      <td>NaN</td>\n",
       "      <td>m2</td>\n",
       "      <td>NaN</td>\n",
       "      <td>0.00</td>\n",
       "      <td>3.73</td>\n",
       "      <td>NaN</td>\n",
       "      <td>3.73</td>\n",
       "    </tr>\n",
       "    <tr>\n",
       "      <th>4</th>\n",
       "      <td>020102</td>\n",
       "      <td>DEMOLICAO MANUAL COBERTURA TELHA FIBROCIMENTO/...</td>\n",
       "      <td>NaN</td>\n",
       "      <td>NaN</td>\n",
       "      <td>NaN</td>\n",
       "      <td>NaN</td>\n",
       "      <td>m2</td>\n",
       "      <td>NaN</td>\n",
       "      <td>0.00</td>\n",
       "      <td>2.07</td>\n",
       "      <td>NaN</td>\n",
       "      <td>2.07</td>\n",
       "    </tr>\n",
       "    <tr>\n",
       "      <th>...</th>\n",
       "      <td>...</td>\n",
       "      <td>...</td>\n",
       "      <td>...</td>\n",
       "      <td>...</td>\n",
       "      <td>...</td>\n",
       "      <td>...</td>\n",
       "      <td>...</td>\n",
       "      <td>...</td>\n",
       "      <td>...</td>\n",
       "      <td>...</td>\n",
       "      <td>...</td>\n",
       "      <td>...</td>\n",
       "    </tr>\n",
       "    <tr>\n",
       "      <th>2031</th>\n",
       "      <td>271851</td>\n",
       "      <td>LETRA CAIXA INOX COLOCADA</td>\n",
       "      <td>NaN</td>\n",
       "      <td>NaN</td>\n",
       "      <td>NaN</td>\n",
       "      <td>NaN</td>\n",
       "      <td>m</td>\n",
       "      <td>NaN</td>\n",
       "      <td>377.93</td>\n",
       "      <td>0.00</td>\n",
       "      <td>NaN</td>\n",
       "      <td>377.93</td>\n",
       "    </tr>\n",
       "    <tr>\n",
       "      <th>2032</th>\n",
       "      <td>271852</td>\n",
       "      <td>LETRA CAIXA INOX ESCOVADO COLOCADA</td>\n",
       "      <td>NaN</td>\n",
       "      <td>NaN</td>\n",
       "      <td>NaN</td>\n",
       "      <td>NaN</td>\n",
       "      <td>m</td>\n",
       "      <td>NaN</td>\n",
       "      <td>464.31</td>\n",
       "      <td>0.00</td>\n",
       "      <td>NaN</td>\n",
       "      <td>464.31</td>\n",
       "    </tr>\n",
       "    <tr>\n",
       "      <th>2033</th>\n",
       "      <td>271853</td>\n",
       "      <td>LETRA  CAIXA LATAO AMARELO COLOCADA</td>\n",
       "      <td>NaN</td>\n",
       "      <td>NaN</td>\n",
       "      <td>NaN</td>\n",
       "      <td>NaN</td>\n",
       "      <td>m</td>\n",
       "      <td>NaN</td>\n",
       "      <td>583.09</td>\n",
       "      <td>0.00</td>\n",
       "      <td>NaN</td>\n",
       "      <td>583.09</td>\n",
       "    </tr>\n",
       "    <tr>\n",
       "      <th>2034</th>\n",
       "      <td>NaN</td>\n",
       "      <td>NaN</td>\n",
       "      <td>NaN</td>\n",
       "      <td>NaN</td>\n",
       "      <td>NaN</td>\n",
       "      <td>NaN</td>\n",
       "      <td>NaN</td>\n",
       "      <td>NaN</td>\n",
       "      <td>NaN</td>\n",
       "      <td>NaN</td>\n",
       "      <td>NaN</td>\n",
       "      <td>NaN</td>\n",
       "    </tr>\n",
       "    <tr>\n",
       "      <th>2035</th>\n",
       "      <td>SCO - Sistema de Custos e Orçamentos</td>\n",
       "      <td>NaN</td>\n",
       "      <td>NaN</td>\n",
       "      <td>NaN</td>\n",
       "      <td>NaN</td>\n",
       "      <td>AGETOP</td>\n",
       "      <td>NaN</td>\n",
       "      <td>NaN</td>\n",
       "      <td>NaN</td>\n",
       "      <td>NaN</td>\n",
       "      <td>NaN</td>\n",
       "      <td>NaN</td>\n",
       "    </tr>\n",
       "  </tbody>\n",
       "</table>\n",
       "<p>2036 rows × 12 columns</p>\n",
       "</div>"
      ],
      "text/plain": [
       "                      CODIGO DA COMPOSICAO  \\\n",
       "0                                     164    \n",
       "1                                  020000    \n",
       "2                                  020100    \n",
       "3                                  020101    \n",
       "4                                  020102    \n",
       "...                                    ...   \n",
       "2031                               271851    \n",
       "2032                               271852    \n",
       "2033                               271853    \n",
       "2034                                   NaN   \n",
       "2035  SCO - Sistema de Custos e Orçamentos   \n",
       "\n",
       "                                DESCRICAO DA COMPOSICAO  Unnamed: 2  \\\n",
       "0                                 SERVIÇOS PRELIMINARES         NaN   \n",
       "1                                 SERVIÇOS PRELIMINARES         NaN   \n",
       "2     DEMOLIÇÃO MANUAL - COBERTURA TELHA METÁLICA C/...         NaN   \n",
       "3     DEMOLICAO MANUAL COBERTURA TELHA CERAMICA C/ T...         NaN   \n",
       "4     DEMOLICAO MANUAL COBERTURA TELHA FIBROCIMENTO/...         NaN   \n",
       "...                                                 ...         ...   \n",
       "2031                          LETRA CAIXA INOX COLOCADA         NaN   \n",
       "2032                 LETRA CAIXA INOX ESCOVADO COLOCADA         NaN   \n",
       "2033                LETRA  CAIXA LATAO AMARELO COLOCADA         NaN   \n",
       "2034                                                NaN         NaN   \n",
       "2035                                                NaN         NaN   \n",
       "\n",
       "      Unnamed: 3  Unnamed: 4 Unnamed: 5 UNIDADE  Unnamed: 7  CUSTO MATERIAL  \\\n",
       "0            NaN         NaN        NaN     NaN         NaN             NaN   \n",
       "1            NaN         NaN        NaN  S/U            NaN            0.00   \n",
       "2            NaN         NaN        NaN  m2             NaN            0.00   \n",
       "3            NaN         NaN        NaN  m2             NaN            0.00   \n",
       "4            NaN         NaN        NaN  m2             NaN            0.00   \n",
       "...          ...         ...        ...     ...         ...             ...   \n",
       "2031         NaN         NaN        NaN  m              NaN          377.93   \n",
       "2032         NaN         NaN        NaN  m              NaN          464.31   \n",
       "2033         NaN         NaN        NaN  m              NaN          583.09   \n",
       "2034         NaN         NaN        NaN     NaN         NaN             NaN   \n",
       "2035         NaN         NaN     AGETOP     NaN         NaN             NaN   \n",
       "\n",
       "      CUSTO MAO DE OBRA  Unnamed: 10  CUSTO TOTAL  \n",
       "0                   NaN          NaN          NaN  \n",
       "1                  0.00          NaN         0.00  \n",
       "2                  2.33          NaN         2.33  \n",
       "3                  3.73          NaN         3.73  \n",
       "4                  2.07          NaN         2.07  \n",
       "...                 ...          ...          ...  \n",
       "2031               0.00          NaN       377.93  \n",
       "2032               0.00          NaN       464.31  \n",
       "2033               0.00          NaN       583.09  \n",
       "2034                NaN          NaN          NaN  \n",
       "2035                NaN          NaN          NaN  \n",
       "\n",
       "[2036 rows x 12 columns]"
      ]
     },
     "execution_count": 3,
     "metadata": {},
     "output_type": "execute_result"
    }
   ],
   "source": [
    "goinfra_sintetica = pd.read_excel(goinfra_sintetica_filepath, skiprows=6)\n",
    "goinfra_sintetica"
   ]
  },
  {
   "cell_type": "markdown",
   "metadata": {},
   "source": [
    "Há 2036 linhas e 12 colunas."
   ]
  },
  {
   "cell_type": "markdown",
   "metadata": {},
   "source": [
    "#### b. Composições analíticas GOINFRA<a id=\"goinfra_analitica_structure\"></a>"
   ]
  },
  {
   "cell_type": "markdown",
   "metadata": {},
   "source": [
    "A leitura do arquivo de composições analíticas da GOINFRA é apresentada a seguir."
   ]
  },
  {
   "cell_type": "code",
   "execution_count": 4,
   "metadata": {},
   "outputs": [
    {
     "data": {
      "text/html": [
       "<div>\n",
       "<style scoped>\n",
       "    .dataframe tbody tr th:only-of-type {\n",
       "        vertical-align: middle;\n",
       "    }\n",
       "\n",
       "    .dataframe tbody tr th {\n",
       "        vertical-align: top;\n",
       "    }\n",
       "\n",
       "    .dataframe thead th {\n",
       "        text-align: right;\n",
       "    }\n",
       "</style>\n",
       "<table border=\"1\" class=\"dataframe\">\n",
       "  <thead>\n",
       "    <tr style=\"text-align: right;\">\n",
       "      <th></th>\n",
       "      <th>CODIGO DA COMPOSICAO</th>\n",
       "      <th>CODIGO ITEM</th>\n",
       "      <th>DESCRIÇÃO ITEM</th>\n",
       "      <th>UNIDADE ITEM</th>\n",
       "      <th>COEFICIENTE</th>\n",
       "      <th>CUSTO TOTAL.1</th>\n",
       "    </tr>\n",
       "  </thead>\n",
       "  <tbody>\n",
       "    <tr>\n",
       "      <th>0</th>\n",
       "      <td>20100</td>\n",
       "      <td>0004</td>\n",
       "      <td>PEDREIRO</td>\n",
       "      <td>h</td>\n",
       "      <td>0.0225</td>\n",
       "      <td>0.32</td>\n",
       "    </tr>\n",
       "    <tr>\n",
       "      <th>1</th>\n",
       "      <td>20100</td>\n",
       "      <td>0005</td>\n",
       "      <td>SERVENTE</td>\n",
       "      <td>h</td>\n",
       "      <td>0.2250</td>\n",
       "      <td>2.01</td>\n",
       "    </tr>\n",
       "    <tr>\n",
       "      <th>2</th>\n",
       "      <td>20101</td>\n",
       "      <td>0005</td>\n",
       "      <td>SERVENTE</td>\n",
       "      <td>h</td>\n",
       "      <td>0.3600</td>\n",
       "      <td>3.21</td>\n",
       "    </tr>\n",
       "    <tr>\n",
       "      <th>3</th>\n",
       "      <td>20101</td>\n",
       "      <td>0004</td>\n",
       "      <td>PEDREIRO</td>\n",
       "      <td>h</td>\n",
       "      <td>0.0360</td>\n",
       "      <td>0.52</td>\n",
       "    </tr>\n",
       "    <tr>\n",
       "      <th>4</th>\n",
       "      <td>20102</td>\n",
       "      <td>0004</td>\n",
       "      <td>PEDREIRO</td>\n",
       "      <td>h</td>\n",
       "      <td>0.0200</td>\n",
       "      <td>0.29</td>\n",
       "    </tr>\n",
       "    <tr>\n",
       "      <th>...</th>\n",
       "      <td>...</td>\n",
       "      <td>...</td>\n",
       "      <td>...</td>\n",
       "      <td>...</td>\n",
       "      <td>...</td>\n",
       "      <td>...</td>\n",
       "    </tr>\n",
       "    <tr>\n",
       "      <th>9482</th>\n",
       "      <td>271803</td>\n",
       "      <td>2500</td>\n",
       "      <td>LADRILHO HIDRAULICO DUAS CORES</td>\n",
       "      <td>m2</td>\n",
       "      <td>1.0500</td>\n",
       "      <td>53.16</td>\n",
       "    </tr>\n",
       "    <tr>\n",
       "      <th>9483</th>\n",
       "      <td>271850</td>\n",
       "      <td>2671</td>\n",
       "      <td>LETRA CX.CHAPA GALV.PINT.COLOCADA (ALT.LETRAXN...</td>\n",
       "      <td>m</td>\n",
       "      <td>1.0000</td>\n",
       "      <td>313.14</td>\n",
       "    </tr>\n",
       "    <tr>\n",
       "      <th>9484</th>\n",
       "      <td>271851</td>\n",
       "      <td>2670</td>\n",
       "      <td>LETRA CAIXA INOX  COLOCADA (ALT.LETRASXNUMERO ...</td>\n",
       "      <td>m</td>\n",
       "      <td>1.0000</td>\n",
       "      <td>377.93</td>\n",
       "    </tr>\n",
       "    <tr>\n",
       "      <th>9485</th>\n",
       "      <td>271852</td>\n",
       "      <td>2683</td>\n",
       "      <td>LETRA CX.INOX ESCOVADO COLOCADA(ALTURA LETRASX...</td>\n",
       "      <td>m</td>\n",
       "      <td>1.0000</td>\n",
       "      <td>464.31</td>\n",
       "    </tr>\n",
       "    <tr>\n",
       "      <th>9486</th>\n",
       "      <td>271853</td>\n",
       "      <td>2684</td>\n",
       "      <td>LETRA CX.LATAO AMARELO COLOCADA(ALTURA LETRASX...</td>\n",
       "      <td>m</td>\n",
       "      <td>1.0000</td>\n",
       "      <td>583.09</td>\n",
       "    </tr>\n",
       "  </tbody>\n",
       "</table>\n",
       "<p>9487 rows × 6 columns</p>\n",
       "</div>"
      ],
      "text/plain": [
       "      CODIGO DA COMPOSICAO CODIGO ITEM  \\\n",
       "0                    20100       0004    \n",
       "1                    20100       0005    \n",
       "2                    20101       0005    \n",
       "3                    20101       0004    \n",
       "4                    20102       0004    \n",
       "...                    ...         ...   \n",
       "9482                271803       2500    \n",
       "9483                271850       2671    \n",
       "9484                271851       2670    \n",
       "9485                271852       2683    \n",
       "9486                271853       2684    \n",
       "\n",
       "                                         DESCRIÇÃO ITEM UNIDADE ITEM  \\\n",
       "0                                              PEDREIRO            h   \n",
       "1                                              SERVENTE            h   \n",
       "2                                              SERVENTE            h   \n",
       "3                                              PEDREIRO            h   \n",
       "4                                              PEDREIRO            h   \n",
       "...                                                 ...          ...   \n",
       "9482                     LADRILHO HIDRAULICO DUAS CORES       m2       \n",
       "9483  LETRA CX.CHAPA GALV.PINT.COLOCADA (ALT.LETRAXN...       m        \n",
       "9484  LETRA CAIXA INOX  COLOCADA (ALT.LETRASXNUMERO ...       m        \n",
       "9485  LETRA CX.INOX ESCOVADO COLOCADA(ALTURA LETRASX...       m        \n",
       "9486  LETRA CX.LATAO AMARELO COLOCADA(ALTURA LETRASX...       m        \n",
       "\n",
       "      COEFICIENTE  CUSTO TOTAL.1  \n",
       "0          0.0225           0.32  \n",
       "1          0.2250           2.01  \n",
       "2          0.3600           3.21  \n",
       "3          0.0360           0.52  \n",
       "4          0.0200           0.29  \n",
       "...           ...            ...  \n",
       "9482       1.0500          53.16  \n",
       "9483       1.0000         313.14  \n",
       "9484       1.0000         377.93  \n",
       "9485       1.0000         464.31  \n",
       "9486       1.0000         583.09  \n",
       "\n",
       "[9487 rows x 6 columns]"
      ]
     },
     "execution_count": 4,
     "metadata": {},
     "output_type": "execute_result"
    }
   ],
   "source": [
    "goinfra_analitica = pd.read_excel(goinfra_analitica_filepath)\n",
    "goinfra_analitica"
   ]
  },
  {
   "cell_type": "markdown",
   "metadata": {},
   "source": [
    "Observam-se 9487 linhas e 6 colunas. A coluna 'CODIGO DA COMPOSICAO' será usada posteriormente como chave para busca de composições analíticas."
   ]
  },
  {
   "cell_type": "markdown",
   "metadata": {},
   "source": [
    "#### c. Composições analíticas SINAPI<a id=\"sinapi_analitica_structure\"></a>"
   ]
  },
  {
   "cell_type": "markdown",
   "metadata": {},
   "source": [
    "As colunas se iniciam a partir da 6ª linha, logo as 5 primeiras são desconsideradas."
   ]
  },
  {
   "cell_type": "code",
   "execution_count": 5,
   "metadata": {},
   "outputs": [
    {
     "data": {
      "text/html": [
       "<div>\n",
       "<style scoped>\n",
       "    .dataframe tbody tr th:only-of-type {\n",
       "        vertical-align: middle;\n",
       "    }\n",
       "\n",
       "    .dataframe tbody tr th {\n",
       "        vertical-align: top;\n",
       "    }\n",
       "\n",
       "    .dataframe thead th {\n",
       "        text-align: right;\n",
       "    }\n",
       "</style>\n",
       "<table border=\"1\" class=\"dataframe\">\n",
       "  <thead>\n",
       "    <tr style=\"text-align: right;\">\n",
       "      <th></th>\n",
       "      <th>DESCRICAO DA CLASSE</th>\n",
       "      <th>SIGLA DA CLASSE</th>\n",
       "      <th>DESCRICAO DO TIPO 1</th>\n",
       "      <th>SIGLA DO TIPO 1</th>\n",
       "      <th>CODIGO DO AGRUPADOR</th>\n",
       "      <th>DESCRICAO DO AGRUPADOR</th>\n",
       "      <th>CODIGO DA COMPOSICAO</th>\n",
       "      <th>DESCRICAO DA COMPOSICAO</th>\n",
       "      <th>UNIDADE</th>\n",
       "      <th>ORIGEM DE PREÇO</th>\n",
       "      <th>...</th>\n",
       "      <th>CUSTO MATERIAL</th>\n",
       "      <th>% MATERIAL</th>\n",
       "      <th>CUSTO EQUIPAMENTO</th>\n",
       "      <th>% EQUIPAMENTO</th>\n",
       "      <th>CUSTO SERVICOS TERCEIROS</th>\n",
       "      <th>% SERVICOS TERCEIROS</th>\n",
       "      <th>CUSTO OUTROS</th>\n",
       "      <th>% OUTROS</th>\n",
       "      <th>% ATRIBUÍDO SÃO PAULO</th>\n",
       "      <th>VINCULO</th>\n",
       "    </tr>\n",
       "  </thead>\n",
       "  <tbody>\n",
       "    <tr>\n",
       "      <th>0</th>\n",
       "      <td>NaN</td>\n",
       "      <td>NaN</td>\n",
       "      <td>NaN</td>\n",
       "      <td>NaN</td>\n",
       "      <td>NaN</td>\n",
       "      <td>NaN</td>\n",
       "      <td>NaN</td>\n",
       "      <td>NaN</td>\n",
       "      <td>NaN</td>\n",
       "      <td>NaN</td>\n",
       "      <td>...</td>\n",
       "      <td>NaN</td>\n",
       "      <td>NaN</td>\n",
       "      <td>NaN</td>\n",
       "      <td>NaN</td>\n",
       "      <td>NaN</td>\n",
       "      <td>NaN</td>\n",
       "      <td>NaN</td>\n",
       "      <td>NaN</td>\n",
       "      <td>NaN</td>\n",
       "      <td>NaN</td>\n",
       "    </tr>\n",
       "    <tr>\n",
       "      <th>1</th>\n",
       "      <td>ASSENTAMENTO DE TUBOS E PECAS</td>\n",
       "      <td>ASTU</td>\n",
       "      <td>FORNEC E/OU ASSENT DE TUBO DE FERRO FUNDIDO JUNTA</td>\n",
       "      <td>45.0</td>\n",
       "      <td>NaN</td>\n",
       "      <td>NaN</td>\n",
       "      <td>97141</td>\n",
       "      <td>ASSENTAMENTO DE TUBO DE FERRO FUNDIDO PARA RED...</td>\n",
       "      <td>M</td>\n",
       "      <td>ATRIBUÍDO SÃO PAULO</td>\n",
       "      <td>...</td>\n",
       "      <td>1,28</td>\n",
       "      <td>18,7406296</td>\n",
       "      <td>1,15</td>\n",
       "      <td>16,9415292</td>\n",
       "      <td>0,00</td>\n",
       "      <td>0,0000000</td>\n",
       "      <td>0,00</td>\n",
       "      <td>0,0000000</td>\n",
       "      <td>0.16667</td>\n",
       "      <td>CAIXA REFERENCIAL</td>\n",
       "    </tr>\n",
       "    <tr>\n",
       "      <th>2</th>\n",
       "      <td>ASSENTAMENTO DE TUBOS E PECAS</td>\n",
       "      <td>ASTU</td>\n",
       "      <td>FORNEC E/OU ASSENT DE TUBO DE FERRO FUNDIDO JUNTA</td>\n",
       "      <td>45.0</td>\n",
       "      <td>NaN</td>\n",
       "      <td>NaN</td>\n",
       "      <td>97141</td>\n",
       "      <td>ASSENTAMENTO DE TUBO DE FERRO FUNDIDO PARA RED...</td>\n",
       "      <td>M</td>\n",
       "      <td>ATRIBUÍDO SÃO PAULO</td>\n",
       "      <td>...</td>\n",
       "      <td>NaN</td>\n",
       "      <td>NaN</td>\n",
       "      <td>NaN</td>\n",
       "      <td>NaN</td>\n",
       "      <td>NaN</td>\n",
       "      <td>NaN</td>\n",
       "      <td>NaN</td>\n",
       "      <td>NaN</td>\n",
       "      <td>NaN</td>\n",
       "      <td>CAIXA REFERENCIAL</td>\n",
       "    </tr>\n",
       "    <tr>\n",
       "      <th>3</th>\n",
       "      <td>ASSENTAMENTO DE TUBOS E PECAS</td>\n",
       "      <td>ASTU</td>\n",
       "      <td>FORNEC E/OU ASSENT DE TUBO DE FERRO FUNDIDO JUNTA</td>\n",
       "      <td>45.0</td>\n",
       "      <td>NaN</td>\n",
       "      <td>NaN</td>\n",
       "      <td>97141</td>\n",
       "      <td>ASSENTAMENTO DE TUBO DE FERRO FUNDIDO PARA RED...</td>\n",
       "      <td>M</td>\n",
       "      <td>ATRIBUÍDO SÃO PAULO</td>\n",
       "      <td>...</td>\n",
       "      <td>NaN</td>\n",
       "      <td>NaN</td>\n",
       "      <td>NaN</td>\n",
       "      <td>NaN</td>\n",
       "      <td>NaN</td>\n",
       "      <td>NaN</td>\n",
       "      <td>NaN</td>\n",
       "      <td>NaN</td>\n",
       "      <td>NaN</td>\n",
       "      <td>CAIXA REFERENCIAL</td>\n",
       "    </tr>\n",
       "    <tr>\n",
       "      <th>4</th>\n",
       "      <td>ASSENTAMENTO DE TUBOS E PECAS</td>\n",
       "      <td>ASTU</td>\n",
       "      <td>FORNEC E/OU ASSENT DE TUBO DE FERRO FUNDIDO JUNTA</td>\n",
       "      <td>45.0</td>\n",
       "      <td>NaN</td>\n",
       "      <td>NaN</td>\n",
       "      <td>97141</td>\n",
       "      <td>ASSENTAMENTO DE TUBO DE FERRO FUNDIDO PARA RED...</td>\n",
       "      <td>M</td>\n",
       "      <td>ATRIBUÍDO SÃO PAULO</td>\n",
       "      <td>...</td>\n",
       "      <td>NaN</td>\n",
       "      <td>NaN</td>\n",
       "      <td>NaN</td>\n",
       "      <td>NaN</td>\n",
       "      <td>NaN</td>\n",
       "      <td>NaN</td>\n",
       "      <td>NaN</td>\n",
       "      <td>NaN</td>\n",
       "      <td>NaN</td>\n",
       "      <td>CAIXA REFERENCIAL</td>\n",
       "    </tr>\n",
       "  </tbody>\n",
       "</table>\n",
       "<p>5 rows × 31 columns</p>\n",
       "</div>"
      ],
      "text/plain": [
       "             DESCRICAO DA CLASSE SIGLA DA CLASSE  \\\n",
       "0                            NaN             NaN   \n",
       "1  ASSENTAMENTO DE TUBOS E PECAS            ASTU   \n",
       "2  ASSENTAMENTO DE TUBOS E PECAS            ASTU   \n",
       "3  ASSENTAMENTO DE TUBOS E PECAS            ASTU   \n",
       "4  ASSENTAMENTO DE TUBOS E PECAS            ASTU   \n",
       "\n",
       "                                 DESCRICAO DO TIPO 1  SIGLA DO TIPO 1  \\\n",
       "0                                                NaN              NaN   \n",
       "1  FORNEC E/OU ASSENT DE TUBO DE FERRO FUNDIDO JUNTA             45.0   \n",
       "2  FORNEC E/OU ASSENT DE TUBO DE FERRO FUNDIDO JUNTA             45.0   \n",
       "3  FORNEC E/OU ASSENT DE TUBO DE FERRO FUNDIDO JUNTA             45.0   \n",
       "4  FORNEC E/OU ASSENT DE TUBO DE FERRO FUNDIDO JUNTA             45.0   \n",
       "\n",
       "   CODIGO DO AGRUPADOR DESCRICAO DO AGRUPADOR CODIGO DA COMPOSICAO  \\\n",
       "0                  NaN                    NaN                  NaN   \n",
       "1                  NaN                    NaN                97141   \n",
       "2                  NaN                    NaN                97141   \n",
       "3                  NaN                    NaN                97141   \n",
       "4                  NaN                    NaN                97141   \n",
       "\n",
       "                             DESCRICAO DA COMPOSICAO UNIDADE  \\\n",
       "0                                                NaN     NaN   \n",
       "1  ASSENTAMENTO DE TUBO DE FERRO FUNDIDO PARA RED...       M   \n",
       "2  ASSENTAMENTO DE TUBO DE FERRO FUNDIDO PARA RED...       M   \n",
       "3  ASSENTAMENTO DE TUBO DE FERRO FUNDIDO PARA RED...       M   \n",
       "4  ASSENTAMENTO DE TUBO DE FERRO FUNDIDO PARA RED...       M   \n",
       "\n",
       "       ORIGEM DE PREÇO  ... CUSTO MATERIAL  % MATERIAL  CUSTO EQUIPAMENTO  \\\n",
       "0                  NaN  ...            NaN         NaN                NaN   \n",
       "1  ATRIBUÍDO SÃO PAULO  ...           1,28  18,7406296               1,15   \n",
       "2  ATRIBUÍDO SÃO PAULO  ...            NaN         NaN                NaN   \n",
       "3  ATRIBUÍDO SÃO PAULO  ...            NaN         NaN                NaN   \n",
       "4  ATRIBUÍDO SÃO PAULO  ...            NaN         NaN                NaN   \n",
       "\n",
       "  % EQUIPAMENTO CUSTO SERVICOS TERCEIROS % SERVICOS TERCEIROS CUSTO OUTROS  \\\n",
       "0           NaN                      NaN                  NaN          NaN   \n",
       "1    16,9415292                     0,00            0,0000000         0,00   \n",
       "2           NaN                      NaN                  NaN          NaN   \n",
       "3           NaN                      NaN                  NaN          NaN   \n",
       "4           NaN                      NaN                  NaN          NaN   \n",
       "\n",
       "    % OUTROS % ATRIBUÍDO SÃO PAULO            VINCULO  \n",
       "0        NaN                   NaN                NaN  \n",
       "1  0,0000000               0.16667  CAIXA REFERENCIAL  \n",
       "2        NaN                   NaN  CAIXA REFERENCIAL  \n",
       "3        NaN                   NaN  CAIXA REFERENCIAL  \n",
       "4        NaN                   NaN  CAIXA REFERENCIAL  \n",
       "\n",
       "[5 rows x 31 columns]"
      ]
     },
     "execution_count": 5,
     "metadata": {},
     "output_type": "execute_result"
    }
   ],
   "source": [
    "sinapi_analitica = pd.read_excel(sinapi_analitica_filepath, skiprows=5)\n",
    "sinapi_analitica.head()"
   ]
  },
  {
   "cell_type": "code",
   "execution_count": 6,
   "metadata": {},
   "outputs": [
    {
     "data": {
      "text/plain": [
       "(42052, 31)"
      ]
     },
     "execution_count": 6,
     "metadata": {},
     "output_type": "execute_result"
    }
   ],
   "source": [
    "sinapi_analitica.shape"
   ]
  },
  {
   "cell_type": "markdown",
   "metadata": {},
   "source": [
    "Há um total de 42.052 linhas e 31 colunas, cujos nomes são apresentados abaixo."
   ]
  },
  {
   "cell_type": "code",
   "execution_count": 7,
   "metadata": {},
   "outputs": [
    {
     "data": {
      "text/plain": [
       "array(['DESCRICAO DA CLASSE', 'SIGLA DA CLASSE', 'DESCRICAO DO TIPO 1',\n",
       "       'SIGLA DO TIPO 1', 'CODIGO DO AGRUPADOR', 'DESCRICAO DO AGRUPADOR',\n",
       "       'CODIGO DA COMPOSICAO', 'DESCRICAO DA COMPOSICAO', 'UNIDADE',\n",
       "       'ORIGEM DE PREÇO', 'CUSTO TOTAL', 'TIPO ITEM', 'CODIGO ITEM',\n",
       "       'DESCRIÇÃO ITEM', 'UNIDADE ITEM', 'ORIGEM DE PREÇO ITEM',\n",
       "       'COEFICIENTE', 'PRECO UNITARIO', 'CUSTO TOTAL.1',\n",
       "       'CUSTO MAO DE OBRA', '% MAO DE OBRA', 'CUSTO MATERIAL',\n",
       "       '% MATERIAL', 'CUSTO EQUIPAMENTO', '% EQUIPAMENTO',\n",
       "       'CUSTO SERVICOS TERCEIROS', '% SERVICOS TERCEIROS', 'CUSTO OUTROS',\n",
       "       '% OUTROS', '% ATRIBUÍDO SÃO PAULO', 'VINCULO'], dtype=object)"
      ]
     },
     "execution_count": 7,
     "metadata": {},
     "output_type": "execute_result"
    }
   ],
   "source": [
    "sinapi_analitica.columns.values"
   ]
  },
  {
   "cell_type": "markdown",
   "metadata": {},
   "source": [
    "Nem todas colunas são relevantes para a presente análise. Apenas as colunas referentes à códigos, descrições e preços serão mantidas."
   ]
  },
  {
   "cell_type": "markdown",
   "metadata": {},
   "source": [
    "### 2.2 Há inconsistências no conjunto de dados?<a id=\"data_inconsistency\"></a>"
   ]
  },
  {
   "cell_type": "markdown",
   "metadata": {},
   "source": [
    "#### a. Composições sintéticas GOINFRA<a id=\"goinfra_sintetica_inconsistency\"></a>"
   ]
  },
  {
   "cell_type": "markdown",
   "metadata": {},
   "source": [
    "##### Dados nulos"
   ]
  },
  {
   "cell_type": "markdown",
   "metadata": {},
   "source": [
    "Procedeu-se à investigação quanto à quantidade de dados nulos no conjunto de dados."
   ]
  },
  {
   "cell_type": "code",
   "execution_count": 8,
   "metadata": {},
   "outputs": [
    {
     "data": {
      "text/plain": [
       "CODIGO DA COMPOSICAO          1\n",
       "DESCRICAO DA COMPOSICAO       2\n",
       "Unnamed: 2                 2036\n",
       "Unnamed: 3                 2036\n",
       "Unnamed: 4                 2036\n",
       "Unnamed: 5                 2035\n",
       "UNIDADE                      89\n",
       "Unnamed: 7                 2036\n",
       "CUSTO MATERIAL               28\n",
       "CUSTO MAO DE OBRA            28\n",
       "Unnamed: 10                2036\n",
       "CUSTO TOTAL                  28\n",
       "dtype: int64"
      ]
     },
     "execution_count": 8,
     "metadata": {},
     "output_type": "execute_result"
    }
   ],
   "source": [
    "goinfra_sintetica.isna().sum()"
   ]
  },
  {
   "cell_type": "markdown",
   "metadata": {},
   "source": [
    "Observa-se uma quantidade significativa de colunas vazias. Isso se deve ao fato de que o arquivo de excel apresenta mesclagem de diversas colunas. Desse modo, as colunas cujo nome contenha 'Unnamed' serão removidas."
   ]
  },
  {
   "cell_type": "markdown",
   "metadata": {},
   "source": [
    "A tabela abaixo apresenta as linhas com valores nulos para a coluna 'UNIDADE'."
   ]
  },
  {
   "cell_type": "code",
   "execution_count": 9,
   "metadata": {},
   "outputs": [
    {
     "data": {
      "text/html": [
       "<div>\n",
       "<style scoped>\n",
       "    .dataframe tbody tr th:only-of-type {\n",
       "        vertical-align: middle;\n",
       "    }\n",
       "\n",
       "    .dataframe tbody tr th {\n",
       "        vertical-align: top;\n",
       "    }\n",
       "\n",
       "    .dataframe thead th {\n",
       "        text-align: right;\n",
       "    }\n",
       "</style>\n",
       "<table border=\"1\" class=\"dataframe\">\n",
       "  <thead>\n",
       "    <tr style=\"text-align: right;\">\n",
       "      <th></th>\n",
       "      <th>index</th>\n",
       "      <th>CODIGO DA COMPOSICAO</th>\n",
       "      <th>DESCRICAO DA COMPOSICAO</th>\n",
       "      <th>Unnamed: 2</th>\n",
       "      <th>Unnamed: 3</th>\n",
       "      <th>Unnamed: 4</th>\n",
       "      <th>Unnamed: 5</th>\n",
       "      <th>UNIDADE</th>\n",
       "      <th>Unnamed: 7</th>\n",
       "      <th>CUSTO MATERIAL</th>\n",
       "      <th>CUSTO MAO DE OBRA</th>\n",
       "      <th>Unnamed: 10</th>\n",
       "      <th>CUSTO TOTAL</th>\n",
       "    </tr>\n",
       "  </thead>\n",
       "  <tbody>\n",
       "    <tr>\n",
       "      <th>0</th>\n",
       "      <td>0</td>\n",
       "      <td>164</td>\n",
       "      <td>SERVIÇOS PRELIMINARES</td>\n",
       "      <td>NaN</td>\n",
       "      <td>NaN</td>\n",
       "      <td>NaN</td>\n",
       "      <td>NaN</td>\n",
       "      <td>NaN</td>\n",
       "      <td>NaN</td>\n",
       "      <td>NaN</td>\n",
       "      <td>NaN</td>\n",
       "      <td>NaN</td>\n",
       "      <td>NaN</td>\n",
       "    </tr>\n",
       "    <tr>\n",
       "      <th>1</th>\n",
       "      <td>83</td>\n",
       "      <td>165</td>\n",
       "      <td>TRANSPORTES</td>\n",
       "      <td>NaN</td>\n",
       "      <td>NaN</td>\n",
       "      <td>NaN</td>\n",
       "      <td>NaN</td>\n",
       "      <td>NaN</td>\n",
       "      <td>NaN</td>\n",
       "      <td>NaN</td>\n",
       "      <td>NaN</td>\n",
       "      <td>NaN</td>\n",
       "      <td>NaN</td>\n",
       "    </tr>\n",
       "    <tr>\n",
       "      <th>2</th>\n",
       "      <td>84</td>\n",
       "      <td>030000</td>\n",
       "      <td>TRANSPORTES</td>\n",
       "      <td>NaN</td>\n",
       "      <td>NaN</td>\n",
       "      <td>NaN</td>\n",
       "      <td>NaN</td>\n",
       "      <td>NaN</td>\n",
       "      <td>NaN</td>\n",
       "      <td>0.0</td>\n",
       "      <td>0.0</td>\n",
       "      <td>NaN</td>\n",
       "      <td>0.0</td>\n",
       "    </tr>\n",
       "    <tr>\n",
       "      <th>3</th>\n",
       "      <td>94</td>\n",
       "      <td>166</td>\n",
       "      <td>SERVIÇO EM TERRA</td>\n",
       "      <td>NaN</td>\n",
       "      <td>NaN</td>\n",
       "      <td>NaN</td>\n",
       "      <td>NaN</td>\n",
       "      <td>NaN</td>\n",
       "      <td>NaN</td>\n",
       "      <td>NaN</td>\n",
       "      <td>NaN</td>\n",
       "      <td>NaN</td>\n",
       "      <td>NaN</td>\n",
       "    </tr>\n",
       "    <tr>\n",
       "      <th>4</th>\n",
       "      <td>95</td>\n",
       "      <td>040000</td>\n",
       "      <td>SERVICO EM TERRA</td>\n",
       "      <td>NaN</td>\n",
       "      <td>NaN</td>\n",
       "      <td>NaN</td>\n",
       "      <td>NaN</td>\n",
       "      <td>NaN</td>\n",
       "      <td>NaN</td>\n",
       "      <td>0.0</td>\n",
       "      <td>0.0</td>\n",
       "      <td>NaN</td>\n",
       "      <td>0.0</td>\n",
       "    </tr>\n",
       "    <tr>\n",
       "      <th>...</th>\n",
       "      <td>...</td>\n",
       "      <td>...</td>\n",
       "      <td>...</td>\n",
       "      <td>...</td>\n",
       "      <td>...</td>\n",
       "      <td>...</td>\n",
       "      <td>...</td>\n",
       "      <td>...</td>\n",
       "      <td>...</td>\n",
       "      <td>...</td>\n",
       "      <td>...</td>\n",
       "      <td>...</td>\n",
       "      <td>...</td>\n",
       "    </tr>\n",
       "    <tr>\n",
       "      <th>84</th>\n",
       "      <td>1889</td>\n",
       "      <td>260000</td>\n",
       "      <td>PINTURA</td>\n",
       "      <td>NaN</td>\n",
       "      <td>NaN</td>\n",
       "      <td>NaN</td>\n",
       "      <td>NaN</td>\n",
       "      <td>NaN</td>\n",
       "      <td>NaN</td>\n",
       "      <td>0.0</td>\n",
       "      <td>0.0</td>\n",
       "      <td>NaN</td>\n",
       "      <td>0.0</td>\n",
       "    </tr>\n",
       "    <tr>\n",
       "      <th>85</th>\n",
       "      <td>1941</td>\n",
       "      <td>189</td>\n",
       "      <td>DIVERSOS</td>\n",
       "      <td>NaN</td>\n",
       "      <td>NaN</td>\n",
       "      <td>NaN</td>\n",
       "      <td>NaN</td>\n",
       "      <td>NaN</td>\n",
       "      <td>NaN</td>\n",
       "      <td>NaN</td>\n",
       "      <td>NaN</td>\n",
       "      <td>NaN</td>\n",
       "      <td>NaN</td>\n",
       "    </tr>\n",
       "    <tr>\n",
       "      <th>86</th>\n",
       "      <td>1942</td>\n",
       "      <td>270000</td>\n",
       "      <td>DIVERSOS</td>\n",
       "      <td>NaN</td>\n",
       "      <td>NaN</td>\n",
       "      <td>NaN</td>\n",
       "      <td>NaN</td>\n",
       "      <td>NaN</td>\n",
       "      <td>NaN</td>\n",
       "      <td>0.0</td>\n",
       "      <td>0.0</td>\n",
       "      <td>NaN</td>\n",
       "      <td>0.0</td>\n",
       "    </tr>\n",
       "    <tr>\n",
       "      <th>87</th>\n",
       "      <td>2034</td>\n",
       "      <td>NaN</td>\n",
       "      <td>NaN</td>\n",
       "      <td>NaN</td>\n",
       "      <td>NaN</td>\n",
       "      <td>NaN</td>\n",
       "      <td>NaN</td>\n",
       "      <td>NaN</td>\n",
       "      <td>NaN</td>\n",
       "      <td>NaN</td>\n",
       "      <td>NaN</td>\n",
       "      <td>NaN</td>\n",
       "      <td>NaN</td>\n",
       "    </tr>\n",
       "    <tr>\n",
       "      <th>88</th>\n",
       "      <td>2035</td>\n",
       "      <td>SCO - Sistema de Custos e Orçamentos</td>\n",
       "      <td>NaN</td>\n",
       "      <td>NaN</td>\n",
       "      <td>NaN</td>\n",
       "      <td>NaN</td>\n",
       "      <td>AGETOP</td>\n",
       "      <td>NaN</td>\n",
       "      <td>NaN</td>\n",
       "      <td>NaN</td>\n",
       "      <td>NaN</td>\n",
       "      <td>NaN</td>\n",
       "      <td>NaN</td>\n",
       "    </tr>\n",
       "  </tbody>\n",
       "</table>\n",
       "<p>89 rows × 13 columns</p>\n",
       "</div>"
      ],
      "text/plain": [
       "    index                  CODIGO DA COMPOSICAO DESCRICAO DA COMPOSICAO  \\\n",
       "0       0                                  164    SERVIÇOS PRELIMINARES   \n",
       "1      83                                  165              TRANSPORTES   \n",
       "2      84                               030000              TRANSPORTES   \n",
       "3      94                                  166         SERVIÇO EM TERRA   \n",
       "4      95                               040000         SERVICO EM TERRA   \n",
       "..    ...                                   ...                     ...   \n",
       "84   1889                               260000                  PINTURA   \n",
       "85   1941                                  189                 DIVERSOS   \n",
       "86   1942                               270000                 DIVERSOS   \n",
       "87   2034                                   NaN                     NaN   \n",
       "88   2035  SCO - Sistema de Custos e Orçamentos                     NaN   \n",
       "\n",
       "    Unnamed: 2  Unnamed: 3  Unnamed: 4 Unnamed: 5 UNIDADE  Unnamed: 7  \\\n",
       "0          NaN         NaN         NaN        NaN     NaN         NaN   \n",
       "1          NaN         NaN         NaN        NaN     NaN         NaN   \n",
       "2          NaN         NaN         NaN        NaN     NaN         NaN   \n",
       "3          NaN         NaN         NaN        NaN     NaN         NaN   \n",
       "4          NaN         NaN         NaN        NaN     NaN         NaN   \n",
       "..         ...         ...         ...        ...     ...         ...   \n",
       "84         NaN         NaN         NaN        NaN     NaN         NaN   \n",
       "85         NaN         NaN         NaN        NaN     NaN         NaN   \n",
       "86         NaN         NaN         NaN        NaN     NaN         NaN   \n",
       "87         NaN         NaN         NaN        NaN     NaN         NaN   \n",
       "88         NaN         NaN         NaN     AGETOP     NaN         NaN   \n",
       "\n",
       "    CUSTO MATERIAL  CUSTO MAO DE OBRA  Unnamed: 10  CUSTO TOTAL  \n",
       "0              NaN                NaN          NaN          NaN  \n",
       "1              NaN                NaN          NaN          NaN  \n",
       "2              0.0                0.0          NaN          0.0  \n",
       "3              NaN                NaN          NaN          NaN  \n",
       "4              0.0                0.0          NaN          0.0  \n",
       "..             ...                ...          ...          ...  \n",
       "84             0.0                0.0          NaN          0.0  \n",
       "85             NaN                NaN          NaN          NaN  \n",
       "86             0.0                0.0          NaN          0.0  \n",
       "87             NaN                NaN          NaN          NaN  \n",
       "88             NaN                NaN          NaN          NaN  \n",
       "\n",
       "[89 rows x 13 columns]"
      ]
     },
     "execution_count": 9,
     "metadata": {},
     "output_type": "execute_result"
    }
   ],
   "source": [
    "goinfra_sintetica[goinfra_sintetica['UNIDADE'].isna()].reset_index()"
   ]
  },
  {
   "cell_type": "markdown",
   "metadata": {},
   "source": [
    "O número de linhas com valor nulo coincide com o encontrado anteriormente para a coluna 'UNIDADE'. As linhas em que essa coluna tenha valor nulo serão removidas durante o tratamento de dados. É razoável supor que linhas com valores nulos nas colunas 'CODIGO DA COMPOSICAO', 'DESCRICAO DA COMPOSICAO', 'CUSTO MATERIAL', 'CUSTO MAO DE OBRA' e 'CUSTO TOTAL' também serão removidas com esse procedimento."
   ]
  },
  {
   "cell_type": "markdown",
   "metadata": {},
   "source": [
    "##### Tipos de variáveis"
   ]
  },
  {
   "cell_type": "markdown",
   "metadata": {},
   "source": [
    "Os tipos de cada variável são apresentados a seguir."
   ]
  },
  {
   "cell_type": "code",
   "execution_count": 10,
   "metadata": {},
   "outputs": [
    {
     "data": {
      "text/plain": [
       "CODIGO DA COMPOSICAO        object\n",
       "DESCRICAO DA COMPOSICAO     object\n",
       "Unnamed: 2                 float64\n",
       "Unnamed: 3                 float64\n",
       "Unnamed: 4                 float64\n",
       "Unnamed: 5                  object\n",
       "UNIDADE                     object\n",
       "Unnamed: 7                 float64\n",
       "CUSTO MATERIAL             float64\n",
       "CUSTO MAO DE OBRA          float64\n",
       "Unnamed: 10                float64\n",
       "CUSTO TOTAL                float64\n",
       "dtype: object"
      ]
     },
     "execution_count": 10,
     "metadata": {},
     "output_type": "execute_result"
    }
   ],
   "source": [
    "goinfra_sintetica.dtypes"
   ]
  },
  {
   "cell_type": "markdown",
   "metadata": {},
   "source": [
    "É sabido que os códigos de composições sintéticas da GOINFRA são estritamente numéricos. Logo, há necessidade de convertê-los para int."
   ]
  },
  {
   "cell_type": "markdown",
   "metadata": {},
   "source": [
    "#### b. Composições analíticas GOINFRA<a id=\"goinfra_analitica_inconsistency\"></a>"
   ]
  },
  {
   "cell_type": "markdown",
   "metadata": {},
   "source": [
    "##### Dados nulos"
   ]
  },
  {
   "cell_type": "markdown",
   "metadata": {},
   "source": [
    "Procedeu-se à investigação quanto à presença de valores nulos nos dados em questão."
   ]
  },
  {
   "cell_type": "code",
   "execution_count": 11,
   "metadata": {},
   "outputs": [
    {
     "data": {
      "text/html": [
       "<div>\n",
       "<style scoped>\n",
       "    .dataframe tbody tr th:only-of-type {\n",
       "        vertical-align: middle;\n",
       "    }\n",
       "\n",
       "    .dataframe tbody tr th {\n",
       "        vertical-align: top;\n",
       "    }\n",
       "\n",
       "    .dataframe thead th {\n",
       "        text-align: right;\n",
       "    }\n",
       "</style>\n",
       "<table border=\"1\" class=\"dataframe\">\n",
       "  <thead>\n",
       "    <tr style=\"text-align: right;\">\n",
       "      <th></th>\n",
       "      <th>CODIGO DA COMPOSICAO</th>\n",
       "      <th>COEFICIENTE</th>\n",
       "      <th>CUSTO TOTAL.1</th>\n",
       "    </tr>\n",
       "  </thead>\n",
       "  <tbody>\n",
       "    <tr>\n",
       "      <th>count</th>\n",
       "      <td>9487.000000</td>\n",
       "      <td>9487.000000</td>\n",
       "      <td>9487.000000</td>\n",
       "    </tr>\n",
       "    <tr>\n",
       "      <th>mean</th>\n",
       "      <td>120916.831243</td>\n",
       "      <td>5.277379</td>\n",
       "      <td>57.832741</td>\n",
       "    </tr>\n",
       "    <tr>\n",
       "      <th>std</th>\n",
       "      <td>77220.560709</td>\n",
       "      <td>46.247697</td>\n",
       "      <td>699.643946</td>\n",
       "    </tr>\n",
       "    <tr>\n",
       "      <th>min</th>\n",
       "      <td>20100.000000</td>\n",
       "      <td>0.000100</td>\n",
       "      <td>0.000000</td>\n",
       "    </tr>\n",
       "    <tr>\n",
       "      <th>25%</th>\n",
       "      <td>71145.500000</td>\n",
       "      <td>0.130750</td>\n",
       "      <td>1.180000</td>\n",
       "    </tr>\n",
       "    <tr>\n",
       "      <th>50%</th>\n",
       "      <td>81571.000000</td>\n",
       "      <td>0.530000</td>\n",
       "      <td>3.920000</td>\n",
       "    </tr>\n",
       "    <tr>\n",
       "      <th>75%</th>\n",
       "      <td>180380.000000</td>\n",
       "      <td>1.020000</td>\n",
       "      <td>16.655000</td>\n",
       "    </tr>\n",
       "    <tr>\n",
       "      <th>max</th>\n",
       "      <td>271853.000000</td>\n",
       "      <td>1817.090000</td>\n",
       "      <td>40676.070000</td>\n",
       "    </tr>\n",
       "  </tbody>\n",
       "</table>\n",
       "</div>"
      ],
      "text/plain": [
       "       CODIGO DA COMPOSICAO  COEFICIENTE  CUSTO TOTAL.1\n",
       "count           9487.000000  9487.000000    9487.000000\n",
       "mean          120916.831243     5.277379      57.832741\n",
       "std            77220.560709    46.247697     699.643946\n",
       "min            20100.000000     0.000100       0.000000\n",
       "25%            71145.500000     0.130750       1.180000\n",
       "50%            81571.000000     0.530000       3.920000\n",
       "75%           180380.000000     1.020000      16.655000\n",
       "max           271853.000000  1817.090000   40676.070000"
      ]
     },
     "execution_count": 11,
     "metadata": {},
     "output_type": "execute_result"
    }
   ],
   "source": [
    "goinfra_analitica.describe()"
   ]
  },
  {
   "cell_type": "code",
   "execution_count": 12,
   "metadata": {},
   "outputs": [
    {
     "data": {
      "text/plain": [
       "CODIGO DA COMPOSICAO    0\n",
       "CODIGO ITEM             0\n",
       "DESCRIÇÃO ITEM          0\n",
       "UNIDADE ITEM            0\n",
       "COEFICIENTE             0\n",
       "CUSTO TOTAL.1           0\n",
       "dtype: int64"
      ]
     },
     "execution_count": 12,
     "metadata": {},
     "output_type": "execute_result"
    }
   ],
   "source": [
    "goinfra_analitica.isna().sum()"
   ]
  },
  {
   "cell_type": "markdown",
   "metadata": {},
   "source": [
    "Não foram encontrados valores nulos, logo não há necessidade de eliminação de linhas a priori."
   ]
  },
  {
   "cell_type": "markdown",
   "metadata": {},
   "source": [
    "##### Tipos de variáveis"
   ]
  },
  {
   "cell_type": "markdown",
   "metadata": {},
   "source": [
    "Os tipos de cada variável são apresentados abaixo."
   ]
  },
  {
   "cell_type": "code",
   "execution_count": 13,
   "metadata": {},
   "outputs": [
    {
     "data": {
      "text/plain": [
       "CODIGO DA COMPOSICAO      int64\n",
       "CODIGO ITEM              object\n",
       "DESCRIÇÃO ITEM           object\n",
       "UNIDADE ITEM             object\n",
       "COEFICIENTE             float64\n",
       "CUSTO TOTAL.1           float64\n",
       "dtype: object"
      ]
     },
     "execution_count": 13,
     "metadata": {},
     "output_type": "execute_result"
    }
   ],
   "source": [
    "goinfra_analitica.dtypes"
   ]
  },
  {
   "cell_type": "markdown",
   "metadata": {},
   "source": [
    "Pode-se dizer que os tipos são compatíveis com o esperado para cada variável. Os códigos das composições são numéricos. Enquanto isso, o código de item pode se mostrar na forma de texto (ex.: H689) o que justifica o tipo 'object'."
   ]
  },
  {
   "cell_type": "markdown",
   "metadata": {},
   "source": [
    "#### c. Composições analíticas SINAPI<a id=\"sinapi_analitica_inconsistency\"></a>"
   ]
  },
  {
   "cell_type": "markdown",
   "metadata": {},
   "source": [
    "##### Dados nulos"
   ]
  },
  {
   "cell_type": "markdown",
   "metadata": {},
   "source": [
    "As quantidades de valores nulos presentes no conjunto de dados são apresentadas abaixo."
   ]
  },
  {
   "cell_type": "code",
   "execution_count": 14,
   "metadata": {},
   "outputs": [
    {
     "data": {
      "text/plain": [
       "DESCRICAO DA CLASSE             1\n",
       "SIGLA DA CLASSE                 1\n",
       "DESCRICAO DO TIPO 1             1\n",
       "SIGLA DO TIPO 1                 1\n",
       "CODIGO DO AGRUPADOR         41893\n",
       "DESCRICAO DO AGRUPADOR      41893\n",
       "CODIGO DA COMPOSICAO            1\n",
       "DESCRICAO DA COMPOSICAO         1\n",
       "UNIDADE                         1\n",
       "ORIGEM DE PREÇO                 1\n",
       "CUSTO TOTAL                     1\n",
       "TIPO ITEM                    6814\n",
       "CODIGO ITEM                  6814\n",
       "DESCRIÇÃO ITEM               6814\n",
       "UNIDADE ITEM                 6814\n",
       "ORIGEM DE PREÇO ITEM         6814\n",
       "COEFICIENTE                  6814\n",
       "PRECO UNITARIO               6814\n",
       "CUSTO TOTAL.1                6814\n",
       "CUSTO MAO DE OBRA           35239\n",
       "% MAO DE OBRA               35239\n",
       "CUSTO MATERIAL              35239\n",
       "% MATERIAL                  35239\n",
       "CUSTO EQUIPAMENTO           35239\n",
       "% EQUIPAMENTO               35239\n",
       "CUSTO SERVICOS TERCEIROS    35239\n",
       "% SERVICOS TERCEIROS        35239\n",
       "CUSTO OUTROS                35239\n",
       "% OUTROS                    35239\n",
       "% ATRIBUÍDO SÃO PAULO       35239\n",
       "VINCULO                         1\n",
       "dtype: int64"
      ]
     },
     "execution_count": 14,
     "metadata": {},
     "output_type": "execute_result"
    }
   ],
   "source": [
    "sinapi_analitica.isna().sum()"
   ]
  },
  {
   "cell_type": "markdown",
   "metadata": {},
   "source": [
    "Pode-se presumir que a elevada quantidade de valores nulos se deva ao fato de que as composições sintéticas e analíticas são dispostas no mesmo arquivo. Desse modo, faz-se necessário um tratamento de dados. Em primeiro lugar, deve-se obter a lista de composições sintéticas a partir da eliminação de duplicatas. Além disso, apenas algumas colunas devem ser extraídas, tanto para a tabela sintética quanto a analítica."
   ]
  },
  {
   "cell_type": "markdown",
   "metadata": {},
   "source": [
    "##### Tipos de variáveis"
   ]
  },
  {
   "cell_type": "markdown",
   "metadata": {},
   "source": [
    "Os tipos de cada variável são apresentados a seguir."
   ]
  },
  {
   "cell_type": "code",
   "execution_count": 15,
   "metadata": {},
   "outputs": [
    {
     "data": {
      "text/plain": [
       "DESCRICAO DA CLASSE          object\n",
       "SIGLA DA CLASSE              object\n",
       "DESCRICAO DO TIPO 1          object\n",
       "SIGLA DO TIPO 1             float64\n",
       "CODIGO DO AGRUPADOR         float64\n",
       "DESCRICAO DO AGRUPADOR       object\n",
       "CODIGO DA COMPOSICAO         object\n",
       "DESCRICAO DA COMPOSICAO      object\n",
       "UNIDADE                      object\n",
       "ORIGEM DE PREÇO              object\n",
       "CUSTO TOTAL                  object\n",
       "TIPO ITEM                    object\n",
       "CODIGO ITEM                 float64\n",
       "DESCRIÇÃO ITEM               object\n",
       "UNIDADE ITEM                 object\n",
       "ORIGEM DE PREÇO ITEM         object\n",
       "COEFICIENTE                  object\n",
       "PRECO UNITARIO               object\n",
       "CUSTO TOTAL.1                object\n",
       "CUSTO MAO DE OBRA            object\n",
       "% MAO DE OBRA                object\n",
       "CUSTO MATERIAL               object\n",
       "% MATERIAL                   object\n",
       "CUSTO EQUIPAMENTO            object\n",
       "% EQUIPAMENTO                object\n",
       "CUSTO SERVICOS TERCEIROS     object\n",
       "% SERVICOS TERCEIROS         object\n",
       "CUSTO OUTROS                 object\n",
       "% OUTROS                     object\n",
       "% ATRIBUÍDO SÃO PAULO       float64\n",
       "VINCULO                      object\n",
       "dtype: object"
      ]
     },
     "execution_count": 15,
     "metadata": {},
     "output_type": "execute_result"
    }
   ],
   "source": [
    "sinapi_analitica.dtypes"
   ]
  },
  {
   "cell_type": "markdown",
   "metadata": {},
   "source": [
    "Vale ressaltar que o código da composição é do tipo objeto, tendo em vista que podem existir valores na forma de texto (ex. 74291/1). A coluna 'CODIGO ITEM' deveria ser do tipo int. Por fim, as colunas de custo deveriam ser do tipo float."
   ]
  },
  {
   "cell_type": "markdown",
   "metadata": {},
   "source": [
    "# 3. Tratamento de dados <a id=\"data_cleaning\"></a>"
   ]
  },
  {
   "cell_type": "markdown",
   "metadata": {},
   "source": [
    "### a. Composições sintéticas GOINFRA <a id=\"handle_goinfra_sintetica\"></a>"
   ]
  },
  {
   "cell_type": "markdown",
   "metadata": {},
   "source": [
    "#### Eliminação de dados nulos"
   ]
  },
  {
   "cell_type": "markdown",
   "metadata": {},
   "source": [
    "Primeiramente, foi efetuada a eliminação das colunas que contenham o text 'Unnamed' em seu título."
   ]
  },
  {
   "cell_type": "code",
   "execution_count": 16,
   "metadata": {},
   "outputs": [
    {
     "data": {
      "text/html": [
       "<div>\n",
       "<style scoped>\n",
       "    .dataframe tbody tr th:only-of-type {\n",
       "        vertical-align: middle;\n",
       "    }\n",
       "\n",
       "    .dataframe tbody tr th {\n",
       "        vertical-align: top;\n",
       "    }\n",
       "\n",
       "    .dataframe thead th {\n",
       "        text-align: right;\n",
       "    }\n",
       "</style>\n",
       "<table border=\"1\" class=\"dataframe\">\n",
       "  <thead>\n",
       "    <tr style=\"text-align: right;\">\n",
       "      <th></th>\n",
       "      <th>CODIGO DA COMPOSICAO</th>\n",
       "      <th>DESCRICAO DA COMPOSICAO</th>\n",
       "      <th>UNIDADE</th>\n",
       "      <th>CUSTO MATERIAL</th>\n",
       "      <th>CUSTO MAO DE OBRA</th>\n",
       "      <th>CUSTO TOTAL</th>\n",
       "    </tr>\n",
       "  </thead>\n",
       "  <tbody>\n",
       "    <tr>\n",
       "      <th>0</th>\n",
       "      <td>164</td>\n",
       "      <td>SERVIÇOS PRELIMINARES</td>\n",
       "      <td>NaN</td>\n",
       "      <td>NaN</td>\n",
       "      <td>NaN</td>\n",
       "      <td>NaN</td>\n",
       "    </tr>\n",
       "    <tr>\n",
       "      <th>1</th>\n",
       "      <td>020000</td>\n",
       "      <td>SERVIÇOS PRELIMINARES</td>\n",
       "      <td>S/U</td>\n",
       "      <td>0.00</td>\n",
       "      <td>0.00</td>\n",
       "      <td>0.00</td>\n",
       "    </tr>\n",
       "    <tr>\n",
       "      <th>2</th>\n",
       "      <td>020100</td>\n",
       "      <td>DEMOLIÇÃO MANUAL - COBERTURA TELHA METÁLICA C/...</td>\n",
       "      <td>m2</td>\n",
       "      <td>0.00</td>\n",
       "      <td>2.33</td>\n",
       "      <td>2.33</td>\n",
       "    </tr>\n",
       "    <tr>\n",
       "      <th>3</th>\n",
       "      <td>020101</td>\n",
       "      <td>DEMOLICAO MANUAL COBERTURA TELHA CERAMICA C/ T...</td>\n",
       "      <td>m2</td>\n",
       "      <td>0.00</td>\n",
       "      <td>3.73</td>\n",
       "      <td>3.73</td>\n",
       "    </tr>\n",
       "    <tr>\n",
       "      <th>4</th>\n",
       "      <td>020102</td>\n",
       "      <td>DEMOLICAO MANUAL COBERTURA TELHA FIBROCIMENTO/...</td>\n",
       "      <td>m2</td>\n",
       "      <td>0.00</td>\n",
       "      <td>2.07</td>\n",
       "      <td>2.07</td>\n",
       "    </tr>\n",
       "    <tr>\n",
       "      <th>...</th>\n",
       "      <td>...</td>\n",
       "      <td>...</td>\n",
       "      <td>...</td>\n",
       "      <td>...</td>\n",
       "      <td>...</td>\n",
       "      <td>...</td>\n",
       "    </tr>\n",
       "    <tr>\n",
       "      <th>2031</th>\n",
       "      <td>271851</td>\n",
       "      <td>LETRA CAIXA INOX COLOCADA</td>\n",
       "      <td>m</td>\n",
       "      <td>377.93</td>\n",
       "      <td>0.00</td>\n",
       "      <td>377.93</td>\n",
       "    </tr>\n",
       "    <tr>\n",
       "      <th>2032</th>\n",
       "      <td>271852</td>\n",
       "      <td>LETRA CAIXA INOX ESCOVADO COLOCADA</td>\n",
       "      <td>m</td>\n",
       "      <td>464.31</td>\n",
       "      <td>0.00</td>\n",
       "      <td>464.31</td>\n",
       "    </tr>\n",
       "    <tr>\n",
       "      <th>2033</th>\n",
       "      <td>271853</td>\n",
       "      <td>LETRA  CAIXA LATAO AMARELO COLOCADA</td>\n",
       "      <td>m</td>\n",
       "      <td>583.09</td>\n",
       "      <td>0.00</td>\n",
       "      <td>583.09</td>\n",
       "    </tr>\n",
       "    <tr>\n",
       "      <th>2034</th>\n",
       "      <td>NaN</td>\n",
       "      <td>NaN</td>\n",
       "      <td>NaN</td>\n",
       "      <td>NaN</td>\n",
       "      <td>NaN</td>\n",
       "      <td>NaN</td>\n",
       "    </tr>\n",
       "    <tr>\n",
       "      <th>2035</th>\n",
       "      <td>SCO - Sistema de Custos e Orçamentos</td>\n",
       "      <td>NaN</td>\n",
       "      <td>NaN</td>\n",
       "      <td>NaN</td>\n",
       "      <td>NaN</td>\n",
       "      <td>NaN</td>\n",
       "    </tr>\n",
       "  </tbody>\n",
       "</table>\n",
       "<p>2036 rows × 6 columns</p>\n",
       "</div>"
      ],
      "text/plain": [
       "                      CODIGO DA COMPOSICAO  \\\n",
       "0                                     164    \n",
       "1                                  020000    \n",
       "2                                  020100    \n",
       "3                                  020101    \n",
       "4                                  020102    \n",
       "...                                    ...   \n",
       "2031                               271851    \n",
       "2032                               271852    \n",
       "2033                               271853    \n",
       "2034                                   NaN   \n",
       "2035  SCO - Sistema de Custos e Orçamentos   \n",
       "\n",
       "                                DESCRICAO DA COMPOSICAO UNIDADE  \\\n",
       "0                                 SERVIÇOS PRELIMINARES     NaN   \n",
       "1                                 SERVIÇOS PRELIMINARES  S/U      \n",
       "2     DEMOLIÇÃO MANUAL - COBERTURA TELHA METÁLICA C/...  m2       \n",
       "3     DEMOLICAO MANUAL COBERTURA TELHA CERAMICA C/ T...  m2       \n",
       "4     DEMOLICAO MANUAL COBERTURA TELHA FIBROCIMENTO/...  m2       \n",
       "...                                                 ...     ...   \n",
       "2031                          LETRA CAIXA INOX COLOCADA  m        \n",
       "2032                 LETRA CAIXA INOX ESCOVADO COLOCADA  m        \n",
       "2033                LETRA  CAIXA LATAO AMARELO COLOCADA  m        \n",
       "2034                                                NaN     NaN   \n",
       "2035                                                NaN     NaN   \n",
       "\n",
       "      CUSTO MATERIAL  CUSTO MAO DE OBRA  CUSTO TOTAL  \n",
       "0                NaN                NaN          NaN  \n",
       "1               0.00               0.00         0.00  \n",
       "2               0.00               2.33         2.33  \n",
       "3               0.00               3.73         3.73  \n",
       "4               0.00               2.07         2.07  \n",
       "...              ...                ...          ...  \n",
       "2031          377.93               0.00       377.93  \n",
       "2032          464.31               0.00       464.31  \n",
       "2033          583.09               0.00       583.09  \n",
       "2034             NaN                NaN          NaN  \n",
       "2035             NaN                NaN          NaN  \n",
       "\n",
       "[2036 rows x 6 columns]"
      ]
     },
     "execution_count": 16,
     "metadata": {},
     "output_type": "execute_result"
    }
   ],
   "source": [
    "goinfra_sintetica.drop(goinfra_sintetica.columns[goinfra_sintetica.columns.str.contains('Unnamed',case = False)],axis = 1, inplace = True)\n",
    "goinfra_sintetica.reset_index(drop=True, inplace=True)\n",
    "goinfra_sintetica"
   ]
  },
  {
   "cell_type": "markdown",
   "metadata": {},
   "source": [
    "No entanto, ainda há valores nulos a serem eliminados."
   ]
  },
  {
   "cell_type": "code",
   "execution_count": 17,
   "metadata": {},
   "outputs": [
    {
     "data": {
      "text/plain": [
       "CODIGO DA COMPOSICAO        1\n",
       "DESCRICAO DA COMPOSICAO     2\n",
       "UNIDADE                    89\n",
       "CUSTO MATERIAL             28\n",
       "CUSTO MAO DE OBRA          28\n",
       "CUSTO TOTAL                28\n",
       "dtype: int64"
      ]
     },
     "execution_count": 17,
     "metadata": {},
     "output_type": "execute_result"
    }
   ],
   "source": [
    "goinfra_sintetica.isna().sum()"
   ]
  },
  {
   "cell_type": "markdown",
   "metadata": {},
   "source": [
    "Tendo em vista que a coluna unidade possui a maior quantidade de linhas com valores nulos, optou-se por eliminá-las."
   ]
  },
  {
   "cell_type": "code",
   "execution_count": 18,
   "metadata": {},
   "outputs": [],
   "source": [
    "goinfra_sintetica.dropna(subset=['UNIDADE'], inplace=True)"
   ]
  },
  {
   "cell_type": "markdown",
   "metadata": {},
   "source": [
    "A seguir, é feita uma nova verificação de valores nulos."
   ]
  },
  {
   "cell_type": "code",
   "execution_count": 19,
   "metadata": {},
   "outputs": [
    {
     "data": {
      "text/plain": [
       "CODIGO DA COMPOSICAO       0\n",
       "DESCRICAO DA COMPOSICAO    0\n",
       "UNIDADE                    0\n",
       "CUSTO MATERIAL             0\n",
       "CUSTO MAO DE OBRA          0\n",
       "CUSTO TOTAL                0\n",
       "dtype: int64"
      ]
     },
     "execution_count": 19,
     "metadata": {},
     "output_type": "execute_result"
    }
   ],
   "source": [
    "goinfra_sintetica.isna().sum()"
   ]
  },
  {
   "cell_type": "markdown",
   "metadata": {},
   "source": [
    "É possível perceber que todas as linhas com valores nulos foram devidamente tratadas."
   ]
  },
  {
   "cell_type": "markdown",
   "metadata": {},
   "source": [
    "#### Conversão de tipo"
   ]
  },
  {
   "cell_type": "markdown",
   "metadata": {},
   "source": [
    "A coluna de código deve ser convertida para int."
   ]
  },
  {
   "cell_type": "code",
   "execution_count": 20,
   "metadata": {},
   "outputs": [],
   "source": [
    "goinfra_sintetica[['CODIGO DA COMPOSICAO']] = goinfra_sintetica[['CODIGO DA COMPOSICAO']].astype(int)"
   ]
  },
  {
   "cell_type": "code",
   "execution_count": 21,
   "metadata": {},
   "outputs": [
    {
     "data": {
      "text/plain": [
       "CODIGO DA COMPOSICAO         int64\n",
       "DESCRICAO DA COMPOSICAO     object\n",
       "UNIDADE                     object\n",
       "CUSTO MATERIAL             float64\n",
       "CUSTO MAO DE OBRA          float64\n",
       "CUSTO TOTAL                float64\n",
       "dtype: object"
      ]
     },
     "execution_count": 21,
     "metadata": {},
     "output_type": "execute_result"
    }
   ],
   "source": [
    "goinfra_sintetica.dtypes"
   ]
  },
  {
   "cell_type": "markdown",
   "metadata": {},
   "source": [
    "Os dados acima indicam que a conversão foi bem sucedida."
   ]
  },
  {
   "cell_type": "markdown",
   "metadata": {},
   "source": [
    "### b. Composições analíticas GOINFRA <a id=\"handle_goinfra_analitica\"></a>"
   ]
  },
  {
   "cell_type": "markdown",
   "metadata": {},
   "source": [
    "#### Mesclagem de tabelas"
   ]
  },
  {
   "cell_type": "markdown",
   "metadata": {},
   "source": [
    "Conforme indicado anteriormente, não há necessidade, iniciamente, de efetuar tratamento de dados nas composições analíticas da GOINFRA. No entanto, optou-se por efetuar a mesclagem das tabelas sintética e analítica. "
   ]
  },
  {
   "cell_type": "code",
   "execution_count": 22,
   "metadata": {},
   "outputs": [
    {
     "data": {
      "text/html": [
       "<div>\n",
       "<style scoped>\n",
       "    .dataframe tbody tr th:only-of-type {\n",
       "        vertical-align: middle;\n",
       "    }\n",
       "\n",
       "    .dataframe tbody tr th {\n",
       "        vertical-align: top;\n",
       "    }\n",
       "\n",
       "    .dataframe thead th {\n",
       "        text-align: right;\n",
       "    }\n",
       "</style>\n",
       "<table border=\"1\" class=\"dataframe\">\n",
       "  <thead>\n",
       "    <tr style=\"text-align: right;\">\n",
       "      <th></th>\n",
       "      <th>CODIGO DA COMPOSICAO</th>\n",
       "      <th>DESCRICAO DA COMPOSICAO</th>\n",
       "      <th>CODIGO ITEM</th>\n",
       "      <th>DESCRIÇÃO ITEM</th>\n",
       "      <th>UNIDADE ITEM</th>\n",
       "      <th>COEFICIENTE</th>\n",
       "      <th>CUSTO TOTAL.1</th>\n",
       "    </tr>\n",
       "  </thead>\n",
       "  <tbody>\n",
       "    <tr>\n",
       "      <th>0</th>\n",
       "      <td>20000</td>\n",
       "      <td>SERVIÇOS PRELIMINARES</td>\n",
       "      <td>NaN</td>\n",
       "      <td>NaN</td>\n",
       "      <td>NaN</td>\n",
       "      <td>NaN</td>\n",
       "      <td>NaN</td>\n",
       "    </tr>\n",
       "    <tr>\n",
       "      <th>1</th>\n",
       "      <td>20100</td>\n",
       "      <td>DEMOLIÇÃO MANUAL - COBERTURA TELHA METÁLICA C/...</td>\n",
       "      <td>0004</td>\n",
       "      <td>PEDREIRO</td>\n",
       "      <td>h</td>\n",
       "      <td>0.0225</td>\n",
       "      <td>0.32</td>\n",
       "    </tr>\n",
       "    <tr>\n",
       "      <th>2</th>\n",
       "      <td>20100</td>\n",
       "      <td>DEMOLIÇÃO MANUAL - COBERTURA TELHA METÁLICA C/...</td>\n",
       "      <td>0005</td>\n",
       "      <td>SERVENTE</td>\n",
       "      <td>h</td>\n",
       "      <td>0.2250</td>\n",
       "      <td>2.01</td>\n",
       "    </tr>\n",
       "    <tr>\n",
       "      <th>3</th>\n",
       "      <td>20101</td>\n",
       "      <td>DEMOLICAO MANUAL COBERTURA TELHA CERAMICA C/ T...</td>\n",
       "      <td>0005</td>\n",
       "      <td>SERVENTE</td>\n",
       "      <td>h</td>\n",
       "      <td>0.3600</td>\n",
       "      <td>3.21</td>\n",
       "    </tr>\n",
       "    <tr>\n",
       "      <th>4</th>\n",
       "      <td>20101</td>\n",
       "      <td>DEMOLICAO MANUAL COBERTURA TELHA CERAMICA C/ T...</td>\n",
       "      <td>0004</td>\n",
       "      <td>PEDREIRO</td>\n",
       "      <td>h</td>\n",
       "      <td>0.0360</td>\n",
       "      <td>0.52</td>\n",
       "    </tr>\n",
       "    <tr>\n",
       "      <th>...</th>\n",
       "      <td>...</td>\n",
       "      <td>...</td>\n",
       "      <td>...</td>\n",
       "      <td>...</td>\n",
       "      <td>...</td>\n",
       "      <td>...</td>\n",
       "      <td>...</td>\n",
       "    </tr>\n",
       "    <tr>\n",
       "      <th>9488</th>\n",
       "      <td>271803</td>\n",
       "      <td>LADRILHO HIDRAULICO DE DUAS CORES (SEM LASTRO)</td>\n",
       "      <td>2500</td>\n",
       "      <td>LADRILHO HIDRAULICO DUAS CORES</td>\n",
       "      <td>m2</td>\n",
       "      <td>1.0500</td>\n",
       "      <td>53.16</td>\n",
       "    </tr>\n",
       "    <tr>\n",
       "      <th>9489</th>\n",
       "      <td>271850</td>\n",
       "      <td>LETRA CAIXA CHAPA GALVANIZADA PINTADA COLOCADA</td>\n",
       "      <td>2671</td>\n",
       "      <td>LETRA CX.CHAPA GALV.PINT.COLOCADA (ALT.LETRAXN...</td>\n",
       "      <td>m</td>\n",
       "      <td>1.0000</td>\n",
       "      <td>313.14</td>\n",
       "    </tr>\n",
       "    <tr>\n",
       "      <th>9490</th>\n",
       "      <td>271851</td>\n",
       "      <td>LETRA CAIXA INOX COLOCADA</td>\n",
       "      <td>2670</td>\n",
       "      <td>LETRA CAIXA INOX  COLOCADA (ALT.LETRASXNUMERO ...</td>\n",
       "      <td>m</td>\n",
       "      <td>1.0000</td>\n",
       "      <td>377.93</td>\n",
       "    </tr>\n",
       "    <tr>\n",
       "      <th>9491</th>\n",
       "      <td>271852</td>\n",
       "      <td>LETRA CAIXA INOX ESCOVADO COLOCADA</td>\n",
       "      <td>2683</td>\n",
       "      <td>LETRA CX.INOX ESCOVADO COLOCADA(ALTURA LETRASX...</td>\n",
       "      <td>m</td>\n",
       "      <td>1.0000</td>\n",
       "      <td>464.31</td>\n",
       "    </tr>\n",
       "    <tr>\n",
       "      <th>9492</th>\n",
       "      <td>271853</td>\n",
       "      <td>LETRA  CAIXA LATAO AMARELO COLOCADA</td>\n",
       "      <td>2684</td>\n",
       "      <td>LETRA CX.LATAO AMARELO COLOCADA(ALTURA LETRASX...</td>\n",
       "      <td>m</td>\n",
       "      <td>1.0000</td>\n",
       "      <td>583.09</td>\n",
       "    </tr>\n",
       "  </tbody>\n",
       "</table>\n",
       "<p>9493 rows × 7 columns</p>\n",
       "</div>"
      ],
      "text/plain": [
       "      CODIGO DA COMPOSICAO                            DESCRICAO DA COMPOSICAO  \\\n",
       "0                    20000                              SERVIÇOS PRELIMINARES   \n",
       "1                    20100  DEMOLIÇÃO MANUAL - COBERTURA TELHA METÁLICA C/...   \n",
       "2                    20100  DEMOLIÇÃO MANUAL - COBERTURA TELHA METÁLICA C/...   \n",
       "3                    20101  DEMOLICAO MANUAL COBERTURA TELHA CERAMICA C/ T...   \n",
       "4                    20101  DEMOLICAO MANUAL COBERTURA TELHA CERAMICA C/ T...   \n",
       "...                    ...                                                ...   \n",
       "9488                271803     LADRILHO HIDRAULICO DE DUAS CORES (SEM LASTRO)   \n",
       "9489                271850     LETRA CAIXA CHAPA GALVANIZADA PINTADA COLOCADA   \n",
       "9490                271851                          LETRA CAIXA INOX COLOCADA   \n",
       "9491                271852                 LETRA CAIXA INOX ESCOVADO COLOCADA   \n",
       "9492                271853                LETRA  CAIXA LATAO AMARELO COLOCADA   \n",
       "\n",
       "     CODIGO ITEM                                     DESCRIÇÃO ITEM  \\\n",
       "0            NaN                                                NaN   \n",
       "1          0004                                            PEDREIRO   \n",
       "2          0005                                            SERVENTE   \n",
       "3          0005                                            SERVENTE   \n",
       "4          0004                                            PEDREIRO   \n",
       "...          ...                                                ...   \n",
       "9488       2500                      LADRILHO HIDRAULICO DUAS CORES   \n",
       "9489       2671   LETRA CX.CHAPA GALV.PINT.COLOCADA (ALT.LETRAXN...   \n",
       "9490       2670   LETRA CAIXA INOX  COLOCADA (ALT.LETRASXNUMERO ...   \n",
       "9491       2683   LETRA CX.INOX ESCOVADO COLOCADA(ALTURA LETRASX...   \n",
       "9492       2684   LETRA CX.LATAO AMARELO COLOCADA(ALTURA LETRASX...   \n",
       "\n",
       "     UNIDADE ITEM  COEFICIENTE  CUSTO TOTAL.1  \n",
       "0             NaN          NaN            NaN  \n",
       "1               h       0.0225           0.32  \n",
       "2               h       0.2250           2.01  \n",
       "3               h       0.3600           3.21  \n",
       "4               h       0.0360           0.52  \n",
       "...           ...          ...            ...  \n",
       "9488       m2           1.0500          53.16  \n",
       "9489       m            1.0000         313.14  \n",
       "9490       m            1.0000         377.93  \n",
       "9491       m            1.0000         464.31  \n",
       "9492       m            1.0000         583.09  \n",
       "\n",
       "[9493 rows x 7 columns]"
      ]
     },
     "execution_count": 22,
     "metadata": {},
     "output_type": "execute_result"
    }
   ],
   "source": [
    "goinfra_analitica = pd.merge(goinfra_sintetica[['CODIGO DA COMPOSICAO', 'DESCRICAO DA COMPOSICAO']],\n",
    "                 goinfra_analitica, \n",
    "                 on='CODIGO DA COMPOSICAO',\n",
    "                 how='left')\n",
    "goinfra_analitica"
   ]
  },
  {
   "cell_type": "markdown",
   "metadata": {},
   "source": [
    "#### Eliminação de dados nulos"
   ]
  },
  {
   "cell_type": "markdown",
   "metadata": {},
   "source": [
    "Após a união das duas tabelas, itens nulos foram introduzidos, os quais são apresentados abaixo."
   ]
  },
  {
   "cell_type": "code",
   "execution_count": 23,
   "metadata": {},
   "outputs": [
    {
     "data": {
      "text/html": [
       "<div>\n",
       "<style scoped>\n",
       "    .dataframe tbody tr th:only-of-type {\n",
       "        vertical-align: middle;\n",
       "    }\n",
       "\n",
       "    .dataframe tbody tr th {\n",
       "        vertical-align: top;\n",
       "    }\n",
       "\n",
       "    .dataframe thead th {\n",
       "        text-align: right;\n",
       "    }\n",
       "</style>\n",
       "<table border=\"1\" class=\"dataframe\">\n",
       "  <thead>\n",
       "    <tr style=\"text-align: right;\">\n",
       "      <th></th>\n",
       "      <th>CODIGO DA COMPOSICAO</th>\n",
       "      <th>DESCRICAO DA COMPOSICAO</th>\n",
       "      <th>CODIGO ITEM</th>\n",
       "      <th>DESCRIÇÃO ITEM</th>\n",
       "      <th>UNIDADE ITEM</th>\n",
       "      <th>COEFICIENTE</th>\n",
       "      <th>CUSTO TOTAL.1</th>\n",
       "    </tr>\n",
       "  </thead>\n",
       "  <tbody>\n",
       "    <tr>\n",
       "      <th>0</th>\n",
       "      <td>20000</td>\n",
       "      <td>SERVIÇOS PRELIMINARES</td>\n",
       "      <td>NaN</td>\n",
       "      <td>NaN</td>\n",
       "      <td>NaN</td>\n",
       "      <td>NaN</td>\n",
       "      <td>NaN</td>\n",
       "    </tr>\n",
       "    <tr>\n",
       "      <th>1154</th>\n",
       "      <td>67000</td>\n",
       "      <td>RECUPERAÇÃO E TRATAMENTO EM ESTRUTURAS DE CONC...</td>\n",
       "      <td>NaN</td>\n",
       "      <td>NaN</td>\n",
       "      <td>NaN</td>\n",
       "      <td>NaN</td>\n",
       "      <td>NaN</td>\n",
       "    </tr>\n",
       "    <tr>\n",
       "      <th>3803</th>\n",
       "      <td>80000</td>\n",
       "      <td>INSTALAÇÕES HIDROSSANITÁRIAS</td>\n",
       "      <td>NaN</td>\n",
       "      <td>NaN</td>\n",
       "      <td>NaN</td>\n",
       "      <td>NaN</td>\n",
       "      <td>NaN</td>\n",
       "    </tr>\n",
       "    <tr>\n",
       "      <th>4752</th>\n",
       "      <td>81580</td>\n",
       "      <td>PLUG</td>\n",
       "      <td>NaN</td>\n",
       "      <td>NaN</td>\n",
       "      <td>NaN</td>\n",
       "      <td>NaN</td>\n",
       "      <td>NaN</td>\n",
       "    </tr>\n",
       "    <tr>\n",
       "      <th>6659</th>\n",
       "      <td>180000</td>\n",
       "      <td>ESQUADRIAS METÁLICAS - ( OBS.: 1- OS VIDROS NÃ...</td>\n",
       "      <td>NaN</td>\n",
       "      <td>NaN</td>\n",
       "      <td>NaN</td>\n",
       "      <td>NaN</td>\n",
       "      <td>NaN</td>\n",
       "    </tr>\n",
       "    <tr>\n",
       "      <th>8253</th>\n",
       "      <td>250000</td>\n",
       "      <td>ADMINISTRAÇÃO - MENSALISTAS</td>\n",
       "      <td>NaN</td>\n",
       "      <td>NaN</td>\n",
       "      <td>NaN</td>\n",
       "      <td>NaN</td>\n",
       "      <td>NaN</td>\n",
       "    </tr>\n",
       "  </tbody>\n",
       "</table>\n",
       "</div>"
      ],
      "text/plain": [
       "      CODIGO DA COMPOSICAO                            DESCRICAO DA COMPOSICAO  \\\n",
       "0                    20000                              SERVIÇOS PRELIMINARES   \n",
       "1154                 67000  RECUPERAÇÃO E TRATAMENTO EM ESTRUTURAS DE CONC...   \n",
       "3803                 80000                       INSTALAÇÕES HIDROSSANITÁRIAS   \n",
       "4752                 81580                                               PLUG   \n",
       "6659                180000  ESQUADRIAS METÁLICAS - ( OBS.: 1- OS VIDROS NÃ...   \n",
       "8253                250000                        ADMINISTRAÇÃO - MENSALISTAS   \n",
       "\n",
       "     CODIGO ITEM DESCRIÇÃO ITEM UNIDADE ITEM  COEFICIENTE  CUSTO TOTAL.1  \n",
       "0            NaN            NaN          NaN          NaN            NaN  \n",
       "1154         NaN            NaN          NaN          NaN            NaN  \n",
       "3803         NaN            NaN          NaN          NaN            NaN  \n",
       "4752         NaN            NaN          NaN          NaN            NaN  \n",
       "6659         NaN            NaN          NaN          NaN            NaN  \n",
       "8253         NaN            NaN          NaN          NaN            NaN  "
      ]
     },
     "execution_count": 23,
     "metadata": {},
     "output_type": "execute_result"
    }
   ],
   "source": [
    "goinfra_analitica.loc[goinfra_analitica['CODIGO ITEM'].isnull()]"
   ]
  },
  {
   "cell_type": "markdown",
   "metadata": {},
   "source": [
    "Decidiu-se eliminar as linhas com valores nulos."
   ]
  },
  {
   "cell_type": "code",
   "execution_count": 24,
   "metadata": {},
   "outputs": [
    {
     "data": {
      "text/plain": [
       "CODIGO DA COMPOSICAO       0\n",
       "DESCRICAO DA COMPOSICAO    0\n",
       "CODIGO ITEM                0\n",
       "DESCRIÇÃO ITEM             0\n",
       "UNIDADE ITEM               0\n",
       "COEFICIENTE                0\n",
       "CUSTO TOTAL.1              0\n",
       "dtype: int64"
      ]
     },
     "execution_count": 24,
     "metadata": {},
     "output_type": "execute_result"
    }
   ],
   "source": [
    "goinfra_analitica.dropna(inplace=True)\n",
    "goinfra_analitica.isna().sum()"
   ]
  },
  {
   "cell_type": "markdown",
   "metadata": {},
   "source": [
    "Após o tratamento, não há mais linhas nulas nas composições analíticas da goinfra."
   ]
  },
  {
   "cell_type": "markdown",
   "metadata": {},
   "source": [
    "### c. Composições sintéticas SINAPI <a id=\"handle_sinapi_sintetica\"></a>"
   ]
  },
  {
   "cell_type": "markdown",
   "metadata": {},
   "source": [
    "#### Segmentação de colunas"
   ]
  },
  {
   "cell_type": "markdown",
   "metadata": {},
   "source": [
    "Apenas as colunas de código, descrição, unidade e custo total são relevantes para as composições sintéticas."
   ]
  },
  {
   "cell_type": "code",
   "execution_count": 25,
   "metadata": {},
   "outputs": [
    {
     "data": {
      "text/html": [
       "<div>\n",
       "<style scoped>\n",
       "    .dataframe tbody tr th:only-of-type {\n",
       "        vertical-align: middle;\n",
       "    }\n",
       "\n",
       "    .dataframe tbody tr th {\n",
       "        vertical-align: top;\n",
       "    }\n",
       "\n",
       "    .dataframe thead th {\n",
       "        text-align: right;\n",
       "    }\n",
       "</style>\n",
       "<table border=\"1\" class=\"dataframe\">\n",
       "  <thead>\n",
       "    <tr style=\"text-align: right;\">\n",
       "      <th></th>\n",
       "      <th>CODIGO DA COMPOSICAO</th>\n",
       "      <th>DESCRICAO DA COMPOSICAO</th>\n",
       "      <th>UNIDADE</th>\n",
       "      <th>CUSTO TOTAL</th>\n",
       "    </tr>\n",
       "  </thead>\n",
       "  <tbody>\n",
       "    <tr>\n",
       "      <th>1</th>\n",
       "      <td>97141</td>\n",
       "      <td>ASSENTAMENTO DE TUBO DE FERRO FUNDIDO PARA RED...</td>\n",
       "      <td>M</td>\n",
       "      <td>6,84</td>\n",
       "    </tr>\n",
       "    <tr>\n",
       "      <th>2</th>\n",
       "      <td>97141</td>\n",
       "      <td>ASSENTAMENTO DE TUBO DE FERRO FUNDIDO PARA RED...</td>\n",
       "      <td>M</td>\n",
       "      <td>6,84</td>\n",
       "    </tr>\n",
       "    <tr>\n",
       "      <th>3</th>\n",
       "      <td>97141</td>\n",
       "      <td>ASSENTAMENTO DE TUBO DE FERRO FUNDIDO PARA RED...</td>\n",
       "      <td>M</td>\n",
       "      <td>6,84</td>\n",
       "    </tr>\n",
       "    <tr>\n",
       "      <th>4</th>\n",
       "      <td>97141</td>\n",
       "      <td>ASSENTAMENTO DE TUBO DE FERRO FUNDIDO PARA RED...</td>\n",
       "      <td>M</td>\n",
       "      <td>6,84</td>\n",
       "    </tr>\n",
       "    <tr>\n",
       "      <th>5</th>\n",
       "      <td>97141</td>\n",
       "      <td>ASSENTAMENTO DE TUBO DE FERRO FUNDIDO PARA RED...</td>\n",
       "      <td>M</td>\n",
       "      <td>6,84</td>\n",
       "    </tr>\n",
       "    <tr>\n",
       "      <th>...</th>\n",
       "      <td>...</td>\n",
       "      <td>...</td>\n",
       "      <td>...</td>\n",
       "      <td>...</td>\n",
       "    </tr>\n",
       "    <tr>\n",
       "      <th>42047</th>\n",
       "      <td>101460</td>\n",
       "      <td>VIGIA DIURNO COM ENCARGOS COMPLEMENTARES</td>\n",
       "      <td>MES</td>\n",
       "      <td>2.520,79</td>\n",
       "    </tr>\n",
       "    <tr>\n",
       "      <th>42048</th>\n",
       "      <td>101460</td>\n",
       "      <td>VIGIA DIURNO COM ENCARGOS COMPLEMENTARES</td>\n",
       "      <td>MES</td>\n",
       "      <td>2.520,79</td>\n",
       "    </tr>\n",
       "    <tr>\n",
       "      <th>42049</th>\n",
       "      <td>101460</td>\n",
       "      <td>VIGIA DIURNO COM ENCARGOS COMPLEMENTARES</td>\n",
       "      <td>MES</td>\n",
       "      <td>2.520,79</td>\n",
       "    </tr>\n",
       "    <tr>\n",
       "      <th>42050</th>\n",
       "      <td>101460</td>\n",
       "      <td>VIGIA DIURNO COM ENCARGOS COMPLEMENTARES</td>\n",
       "      <td>MES</td>\n",
       "      <td>2.520,79</td>\n",
       "    </tr>\n",
       "    <tr>\n",
       "      <th>42051</th>\n",
       "      <td>101460</td>\n",
       "      <td>VIGIA DIURNO COM ENCARGOS COMPLEMENTARES</td>\n",
       "      <td>MES</td>\n",
       "      <td>2.520,79</td>\n",
       "    </tr>\n",
       "  </tbody>\n",
       "</table>\n",
       "<p>42051 rows × 4 columns</p>\n",
       "</div>"
      ],
      "text/plain": [
       "      CODIGO DA COMPOSICAO                            DESCRICAO DA COMPOSICAO  \\\n",
       "1                    97141  ASSENTAMENTO DE TUBO DE FERRO FUNDIDO PARA RED...   \n",
       "2                    97141  ASSENTAMENTO DE TUBO DE FERRO FUNDIDO PARA RED...   \n",
       "3                    97141  ASSENTAMENTO DE TUBO DE FERRO FUNDIDO PARA RED...   \n",
       "4                    97141  ASSENTAMENTO DE TUBO DE FERRO FUNDIDO PARA RED...   \n",
       "5                    97141  ASSENTAMENTO DE TUBO DE FERRO FUNDIDO PARA RED...   \n",
       "...                    ...                                                ...   \n",
       "42047               101460           VIGIA DIURNO COM ENCARGOS COMPLEMENTARES   \n",
       "42048               101460           VIGIA DIURNO COM ENCARGOS COMPLEMENTARES   \n",
       "42049               101460           VIGIA DIURNO COM ENCARGOS COMPLEMENTARES   \n",
       "42050               101460           VIGIA DIURNO COM ENCARGOS COMPLEMENTARES   \n",
       "42051               101460           VIGIA DIURNO COM ENCARGOS COMPLEMENTARES   \n",
       "\n",
       "      UNIDADE CUSTO TOTAL  \n",
       "1           M        6,84  \n",
       "2           M        6,84  \n",
       "3           M        6,84  \n",
       "4           M        6,84  \n",
       "5           M        6,84  \n",
       "...       ...         ...  \n",
       "42047     MES    2.520,79  \n",
       "42048     MES    2.520,79  \n",
       "42049     MES    2.520,79  \n",
       "42050     MES    2.520,79  \n",
       "42051     MES    2.520,79  \n",
       "\n",
       "[42051 rows x 4 columns]"
      ]
     },
     "execution_count": 25,
     "metadata": {},
     "output_type": "execute_result"
    }
   ],
   "source": [
    "sinapi_sintetica = sinapi_analitica[['CODIGO DA COMPOSICAO', 'DESCRICAO DA COMPOSICAO', 'UNIDADE', 'CUSTO TOTAL']].dropna()\n",
    "sinapi_sintetica"
   ]
  },
  {
   "cell_type": "markdown",
   "metadata": {},
   "source": [
    "A tabela acima indica que foi efetuada uma segmentação dos dados. No entanto, há diversos dados duplicados que precisam ser removidos."
   ]
  },
  {
   "cell_type": "markdown",
   "metadata": {},
   "source": [
    "#### Eliminação de dados duplicados"
   ]
  },
  {
   "cell_type": "markdown",
   "metadata": {},
   "source": [
    "A quantidade de itens únicos é apresentada abaixo."
   ]
  },
  {
   "cell_type": "code",
   "execution_count": 26,
   "metadata": {},
   "outputs": [
    {
     "data": {
      "text/plain": [
       "6813"
      ]
     },
     "execution_count": 26,
     "metadata": {},
     "output_type": "execute_result"
    }
   ],
   "source": [
    "len(sinapi_sintetica['CODIGO DA COMPOSICAO'].unique())"
   ]
  },
  {
   "cell_type": "markdown",
   "metadata": {},
   "source": [
    "Há um total de 6813 códigos únicos para composições sintéticas."
   ]
  },
  {
   "cell_type": "markdown",
   "metadata": {},
   "source": [
    "Os valores duplicados são removidos a seguir."
   ]
  },
  {
   "cell_type": "code",
   "execution_count": 27,
   "metadata": {},
   "outputs": [
    {
     "data": {
      "text/html": [
       "<div>\n",
       "<style scoped>\n",
       "    .dataframe tbody tr th:only-of-type {\n",
       "        vertical-align: middle;\n",
       "    }\n",
       "\n",
       "    .dataframe tbody tr th {\n",
       "        vertical-align: top;\n",
       "    }\n",
       "\n",
       "    .dataframe thead th {\n",
       "        text-align: right;\n",
       "    }\n",
       "</style>\n",
       "<table border=\"1\" class=\"dataframe\">\n",
       "  <thead>\n",
       "    <tr style=\"text-align: right;\">\n",
       "      <th></th>\n",
       "      <th>CODIGO DA COMPOSICAO</th>\n",
       "      <th>DESCRICAO DA COMPOSICAO</th>\n",
       "      <th>UNIDADE</th>\n",
       "      <th>CUSTO TOTAL</th>\n",
       "    </tr>\n",
       "  </thead>\n",
       "  <tbody>\n",
       "    <tr>\n",
       "      <th>0</th>\n",
       "      <td>97141</td>\n",
       "      <td>ASSENTAMENTO DE TUBO DE FERRO FUNDIDO PARA RED...</td>\n",
       "      <td>M</td>\n",
       "      <td>6,84</td>\n",
       "    </tr>\n",
       "    <tr>\n",
       "      <th>1</th>\n",
       "      <td>97142</td>\n",
       "      <td>ASSENTAMENTO DE TUBO DE FERRO FUNDIDO PARA RED...</td>\n",
       "      <td>M</td>\n",
       "      <td>7,64</td>\n",
       "    </tr>\n",
       "    <tr>\n",
       "      <th>2</th>\n",
       "      <td>97143</td>\n",
       "      <td>ASSENTAMENTO DE TUBO DE FERRO FUNDIDO PARA RED...</td>\n",
       "      <td>M</td>\n",
       "      <td>9,64</td>\n",
       "    </tr>\n",
       "    <tr>\n",
       "      <th>3</th>\n",
       "      <td>97144</td>\n",
       "      <td>ASSENTAMENTO DE TUBO DE FERRO FUNDIDO PARA RED...</td>\n",
       "      <td>M</td>\n",
       "      <td>11,64</td>\n",
       "    </tr>\n",
       "    <tr>\n",
       "      <th>4</th>\n",
       "      <td>97145</td>\n",
       "      <td>ASSENTAMENTO DE TUBO DE FERRO FUNDIDO PARA RED...</td>\n",
       "      <td>M</td>\n",
       "      <td>13,66</td>\n",
       "    </tr>\n",
       "    <tr>\n",
       "      <th>...</th>\n",
       "      <td>...</td>\n",
       "      <td>...</td>\n",
       "      <td>...</td>\n",
       "      <td>...</td>\n",
       "    </tr>\n",
       "    <tr>\n",
       "      <th>6808</th>\n",
       "      <td>101456</td>\n",
       "      <td>TÉCNICO DE LABORATÓRIO E CAMPO DE CONSTRUÇÃO C...</td>\n",
       "      <td>MES</td>\n",
       "      <td>4.574,30</td>\n",
       "    </tr>\n",
       "    <tr>\n",
       "      <th>6809</th>\n",
       "      <td>101457</td>\n",
       "      <td>TÉCNICO EM SONDAGEM COM ENCARGOS COMPLEMENTARES</td>\n",
       "      <td>MES</td>\n",
       "      <td>5.107,62</td>\n",
       "    </tr>\n",
       "    <tr>\n",
       "      <th>6810</th>\n",
       "      <td>101458</td>\n",
       "      <td>TELHADOR COM ENCARGOS COMPLEMENTARES</td>\n",
       "      <td>MES</td>\n",
       "      <td>3.677,78</td>\n",
       "    </tr>\n",
       "    <tr>\n",
       "      <th>6811</th>\n",
       "      <td>101459</td>\n",
       "      <td>VIDRACEIRO COM ENCARGOS COMPLEMENTARES</td>\n",
       "      <td>MES</td>\n",
       "      <td>3.248,19</td>\n",
       "    </tr>\n",
       "    <tr>\n",
       "      <th>6812</th>\n",
       "      <td>101460</td>\n",
       "      <td>VIGIA DIURNO COM ENCARGOS COMPLEMENTARES</td>\n",
       "      <td>MES</td>\n",
       "      <td>2.520,79</td>\n",
       "    </tr>\n",
       "  </tbody>\n",
       "</table>\n",
       "<p>6813 rows × 4 columns</p>\n",
       "</div>"
      ],
      "text/plain": [
       "     CODIGO DA COMPOSICAO                            DESCRICAO DA COMPOSICAO  \\\n",
       "0                   97141  ASSENTAMENTO DE TUBO DE FERRO FUNDIDO PARA RED...   \n",
       "1                   97142  ASSENTAMENTO DE TUBO DE FERRO FUNDIDO PARA RED...   \n",
       "2                   97143  ASSENTAMENTO DE TUBO DE FERRO FUNDIDO PARA RED...   \n",
       "3                   97144  ASSENTAMENTO DE TUBO DE FERRO FUNDIDO PARA RED...   \n",
       "4                   97145  ASSENTAMENTO DE TUBO DE FERRO FUNDIDO PARA RED...   \n",
       "...                   ...                                                ...   \n",
       "6808               101456  TÉCNICO DE LABORATÓRIO E CAMPO DE CONSTRUÇÃO C...   \n",
       "6809               101457    TÉCNICO EM SONDAGEM COM ENCARGOS COMPLEMENTARES   \n",
       "6810               101458               TELHADOR COM ENCARGOS COMPLEMENTARES   \n",
       "6811               101459             VIDRACEIRO COM ENCARGOS COMPLEMENTARES   \n",
       "6812               101460           VIGIA DIURNO COM ENCARGOS COMPLEMENTARES   \n",
       "\n",
       "     UNIDADE CUSTO TOTAL  \n",
       "0          M        6,84  \n",
       "1          M        7,64  \n",
       "2          M        9,64  \n",
       "3          M       11,64  \n",
       "4          M       13,66  \n",
       "...      ...         ...  \n",
       "6808     MES    4.574,30  \n",
       "6809     MES    5.107,62  \n",
       "6810     MES    3.677,78  \n",
       "6811     MES    3.248,19  \n",
       "6812     MES    2.520,79  \n",
       "\n",
       "[6813 rows x 4 columns]"
      ]
     },
     "execution_count": 27,
     "metadata": {},
     "output_type": "execute_result"
    }
   ],
   "source": [
    "sinapi_sintetica.drop_duplicates(inplace=True)\n",
    "sinapi_sintetica.reset_index(drop=True, inplace=True)\n",
    "sinapi_sintetica"
   ]
  },
  {
   "cell_type": "code",
   "execution_count": 28,
   "metadata": {},
   "outputs": [
    {
     "data": {
      "text/plain": [
       "CODIGO DA COMPOSICAO       0\n",
       "DESCRICAO DA COMPOSICAO    0\n",
       "UNIDADE                    0\n",
       "CUSTO TOTAL                0\n",
       "dtype: int64"
      ]
     },
     "execution_count": 28,
     "metadata": {},
     "output_type": "execute_result"
    }
   ],
   "source": [
    "sinapi_sintetica.isna().sum()"
   ]
  },
  {
   "cell_type": "markdown",
   "metadata": {},
   "source": [
    "Após a eliminação dos dados duplicados, os valores nulos também foram removidos."
   ]
  },
  {
   "cell_type": "markdown",
   "metadata": {},
   "source": [
    "#### Conversão de tipo"
   ]
  },
  {
   "cell_type": "markdown",
   "metadata": {},
   "source": [
    "Os tipos para as composições sintéticas são apresentados abaixo."
   ]
  },
  {
   "cell_type": "code",
   "execution_count": 29,
   "metadata": {},
   "outputs": [
    {
     "data": {
      "text/plain": [
       "CODIGO DA COMPOSICAO       object\n",
       "DESCRICAO DA COMPOSICAO    object\n",
       "UNIDADE                    object\n",
       "CUSTO TOTAL                object\n",
       "dtype: object"
      ]
     },
     "execution_count": 29,
     "metadata": {},
     "output_type": "execute_result"
    }
   ],
   "source": [
    "sinapi_sintetica.dtypes"
   ]
  },
  {
   "cell_type": "markdown",
   "metadata": {},
   "source": [
    "Optou-se pela conversão da coluna de custo para float."
   ]
  },
  {
   "cell_type": "code",
   "execution_count": 30,
   "metadata": {},
   "outputs": [
    {
     "data": {
      "text/html": [
       "<div>\n",
       "<style scoped>\n",
       "    .dataframe tbody tr th:only-of-type {\n",
       "        vertical-align: middle;\n",
       "    }\n",
       "\n",
       "    .dataframe tbody tr th {\n",
       "        vertical-align: top;\n",
       "    }\n",
       "\n",
       "    .dataframe thead th {\n",
       "        text-align: right;\n",
       "    }\n",
       "</style>\n",
       "<table border=\"1\" class=\"dataframe\">\n",
       "  <thead>\n",
       "    <tr style=\"text-align: right;\">\n",
       "      <th></th>\n",
       "      <th>CODIGO DA COMPOSICAO</th>\n",
       "      <th>DESCRICAO DA COMPOSICAO</th>\n",
       "      <th>UNIDADE</th>\n",
       "      <th>CUSTO TOTAL</th>\n",
       "    </tr>\n",
       "  </thead>\n",
       "  <tbody>\n",
       "    <tr>\n",
       "      <th>0</th>\n",
       "      <td>97141</td>\n",
       "      <td>ASSENTAMENTO DE TUBO DE FERRO FUNDIDO PARA RED...</td>\n",
       "      <td>M</td>\n",
       "      <td>6.84</td>\n",
       "    </tr>\n",
       "    <tr>\n",
       "      <th>1</th>\n",
       "      <td>97142</td>\n",
       "      <td>ASSENTAMENTO DE TUBO DE FERRO FUNDIDO PARA RED...</td>\n",
       "      <td>M</td>\n",
       "      <td>7.64</td>\n",
       "    </tr>\n",
       "    <tr>\n",
       "      <th>2</th>\n",
       "      <td>97143</td>\n",
       "      <td>ASSENTAMENTO DE TUBO DE FERRO FUNDIDO PARA RED...</td>\n",
       "      <td>M</td>\n",
       "      <td>9.64</td>\n",
       "    </tr>\n",
       "    <tr>\n",
       "      <th>3</th>\n",
       "      <td>97144</td>\n",
       "      <td>ASSENTAMENTO DE TUBO DE FERRO FUNDIDO PARA RED...</td>\n",
       "      <td>M</td>\n",
       "      <td>11.64</td>\n",
       "    </tr>\n",
       "    <tr>\n",
       "      <th>4</th>\n",
       "      <td>97145</td>\n",
       "      <td>ASSENTAMENTO DE TUBO DE FERRO FUNDIDO PARA RED...</td>\n",
       "      <td>M</td>\n",
       "      <td>13.66</td>\n",
       "    </tr>\n",
       "    <tr>\n",
       "      <th>...</th>\n",
       "      <td>...</td>\n",
       "      <td>...</td>\n",
       "      <td>...</td>\n",
       "      <td>...</td>\n",
       "    </tr>\n",
       "    <tr>\n",
       "      <th>6808</th>\n",
       "      <td>101456</td>\n",
       "      <td>TÉCNICO DE LABORATÓRIO E CAMPO DE CONSTRUÇÃO C...</td>\n",
       "      <td>MES</td>\n",
       "      <td>4574.30</td>\n",
       "    </tr>\n",
       "    <tr>\n",
       "      <th>6809</th>\n",
       "      <td>101457</td>\n",
       "      <td>TÉCNICO EM SONDAGEM COM ENCARGOS COMPLEMENTARES</td>\n",
       "      <td>MES</td>\n",
       "      <td>5107.62</td>\n",
       "    </tr>\n",
       "    <tr>\n",
       "      <th>6810</th>\n",
       "      <td>101458</td>\n",
       "      <td>TELHADOR COM ENCARGOS COMPLEMENTARES</td>\n",
       "      <td>MES</td>\n",
       "      <td>3677.78</td>\n",
       "    </tr>\n",
       "    <tr>\n",
       "      <th>6811</th>\n",
       "      <td>101459</td>\n",
       "      <td>VIDRACEIRO COM ENCARGOS COMPLEMENTARES</td>\n",
       "      <td>MES</td>\n",
       "      <td>3248.19</td>\n",
       "    </tr>\n",
       "    <tr>\n",
       "      <th>6812</th>\n",
       "      <td>101460</td>\n",
       "      <td>VIGIA DIURNO COM ENCARGOS COMPLEMENTARES</td>\n",
       "      <td>MES</td>\n",
       "      <td>2520.79</td>\n",
       "    </tr>\n",
       "  </tbody>\n",
       "</table>\n",
       "<p>6813 rows × 4 columns</p>\n",
       "</div>"
      ],
      "text/plain": [
       "     CODIGO DA COMPOSICAO                            DESCRICAO DA COMPOSICAO  \\\n",
       "0                   97141  ASSENTAMENTO DE TUBO DE FERRO FUNDIDO PARA RED...   \n",
       "1                   97142  ASSENTAMENTO DE TUBO DE FERRO FUNDIDO PARA RED...   \n",
       "2                   97143  ASSENTAMENTO DE TUBO DE FERRO FUNDIDO PARA RED...   \n",
       "3                   97144  ASSENTAMENTO DE TUBO DE FERRO FUNDIDO PARA RED...   \n",
       "4                   97145  ASSENTAMENTO DE TUBO DE FERRO FUNDIDO PARA RED...   \n",
       "...                   ...                                                ...   \n",
       "6808               101456  TÉCNICO DE LABORATÓRIO E CAMPO DE CONSTRUÇÃO C...   \n",
       "6809               101457    TÉCNICO EM SONDAGEM COM ENCARGOS COMPLEMENTARES   \n",
       "6810               101458               TELHADOR COM ENCARGOS COMPLEMENTARES   \n",
       "6811               101459             VIDRACEIRO COM ENCARGOS COMPLEMENTARES   \n",
       "6812               101460           VIGIA DIURNO COM ENCARGOS COMPLEMENTARES   \n",
       "\n",
       "     UNIDADE  CUSTO TOTAL  \n",
       "0          M         6.84  \n",
       "1          M         7.64  \n",
       "2          M         9.64  \n",
       "3          M        11.64  \n",
       "4          M        13.66  \n",
       "...      ...          ...  \n",
       "6808     MES      4574.30  \n",
       "6809     MES      5107.62  \n",
       "6810     MES      3677.78  \n",
       "6811     MES      3248.19  \n",
       "6812     MES      2520.79  \n",
       "\n",
       "[6813 rows x 4 columns]"
      ]
     },
     "execution_count": 30,
     "metadata": {},
     "output_type": "execute_result"
    }
   ],
   "source": [
    "sinapi_sintetica['CUSTO TOTAL'] = helpers.convert_decimal_separator(sinapi_sintetica['CUSTO TOTAL'])\n",
    "sinapi_sintetica"
   ]
  },
  {
   "cell_type": "code",
   "execution_count": 31,
   "metadata": {},
   "outputs": [
    {
     "data": {
      "text/plain": [
       "CODIGO DA COMPOSICAO        object\n",
       "DESCRICAO DA COMPOSICAO     object\n",
       "UNIDADE                     object\n",
       "CUSTO TOTAL                float64\n",
       "dtype: object"
      ]
     },
     "execution_count": 31,
     "metadata": {},
     "output_type": "execute_result"
    }
   ],
   "source": [
    "sinapi_sintetica.dtypes"
   ]
  },
  {
   "cell_type": "markdown",
   "metadata": {},
   "source": [
    "Constata-se acima que a conversão da coluna de custo foi bem sucedida."
   ]
  },
  {
   "cell_type": "markdown",
   "metadata": {},
   "source": [
    "### d. Composições analíticas SINAPI <a id=\"handle_sinapi_analitica\"></a>"
   ]
  },
  {
   "cell_type": "markdown",
   "metadata": {},
   "source": [
    "##### Segmentação de colunas"
   ]
  },
  {
   "cell_type": "markdown",
   "metadata": {},
   "source": [
    "Apenas as colunas de códigos, descrição, unidade, coeficiente, preço unitário e custo total são relevantes para nossa análise."
   ]
  },
  {
   "cell_type": "code",
   "execution_count": 32,
   "metadata": {},
   "outputs": [
    {
     "data": {
      "text/plain": [
       "array(['DESCRICAO DA CLASSE', 'SIGLA DA CLASSE', 'DESCRICAO DO TIPO 1',\n",
       "       'SIGLA DO TIPO 1', 'CODIGO DO AGRUPADOR', 'DESCRICAO DO AGRUPADOR',\n",
       "       'CODIGO DA COMPOSICAO', 'DESCRICAO DA COMPOSICAO', 'UNIDADE',\n",
       "       'ORIGEM DE PREÇO', 'CUSTO TOTAL', 'TIPO ITEM', 'CODIGO ITEM',\n",
       "       'DESCRIÇÃO ITEM', 'UNIDADE ITEM', 'ORIGEM DE PREÇO ITEM',\n",
       "       'COEFICIENTE', 'PRECO UNITARIO', 'CUSTO TOTAL.1',\n",
       "       'CUSTO MAO DE OBRA', '% MAO DE OBRA', 'CUSTO MATERIAL',\n",
       "       '% MATERIAL', 'CUSTO EQUIPAMENTO', '% EQUIPAMENTO',\n",
       "       'CUSTO SERVICOS TERCEIROS', '% SERVICOS TERCEIROS', 'CUSTO OUTROS',\n",
       "       '% OUTROS', '% ATRIBUÍDO SÃO PAULO', 'VINCULO'], dtype=object)"
      ]
     },
     "execution_count": 32,
     "metadata": {},
     "output_type": "execute_result"
    }
   ],
   "source": [
    "sinapi_analitica.columns.values"
   ]
  },
  {
   "cell_type": "code",
   "execution_count": 33,
   "metadata": {},
   "outputs": [
    {
     "data": {
      "text/html": [
       "<div>\n",
       "<style scoped>\n",
       "    .dataframe tbody tr th:only-of-type {\n",
       "        vertical-align: middle;\n",
       "    }\n",
       "\n",
       "    .dataframe tbody tr th {\n",
       "        vertical-align: top;\n",
       "    }\n",
       "\n",
       "    .dataframe thead th {\n",
       "        text-align: right;\n",
       "    }\n",
       "</style>\n",
       "<table border=\"1\" class=\"dataframe\">\n",
       "  <thead>\n",
       "    <tr style=\"text-align: right;\">\n",
       "      <th></th>\n",
       "      <th>CODIGO DA COMPOSICAO</th>\n",
       "      <th>CODIGO ITEM</th>\n",
       "      <th>DESCRIÇÃO ITEM</th>\n",
       "      <th>UNIDADE ITEM</th>\n",
       "      <th>COEFICIENTE</th>\n",
       "      <th>PRECO UNITARIO</th>\n",
       "      <th>CUSTO TOTAL.1</th>\n",
       "    </tr>\n",
       "  </thead>\n",
       "  <tbody>\n",
       "    <tr>\n",
       "      <th>0</th>\n",
       "      <td>NaN</td>\n",
       "      <td>NaN</td>\n",
       "      <td>NaN</td>\n",
       "      <td>NaN</td>\n",
       "      <td>NaN</td>\n",
       "      <td>NaN</td>\n",
       "      <td>NaN</td>\n",
       "    </tr>\n",
       "    <tr>\n",
       "      <th>1</th>\n",
       "      <td>97141</td>\n",
       "      <td>NaN</td>\n",
       "      <td>NaN</td>\n",
       "      <td>NaN</td>\n",
       "      <td>NaN</td>\n",
       "      <td>NaN</td>\n",
       "      <td>NaN</td>\n",
       "    </tr>\n",
       "    <tr>\n",
       "      <th>2</th>\n",
       "      <td>97141</td>\n",
       "      <td>5678.0</td>\n",
       "      <td>RETROESCAVADEIRA SOBRE RODAS COM CARREGADEIRA,...</td>\n",
       "      <td>CHP</td>\n",
       "      <td>0,0099000</td>\n",
       "      <td>97,30</td>\n",
       "      <td>0,96</td>\n",
       "    </tr>\n",
       "    <tr>\n",
       "      <th>3</th>\n",
       "      <td>97141</td>\n",
       "      <td>5679.0</td>\n",
       "      <td>RETROESCAVADEIRA SOBRE RODAS COM CARREGADEIRA,...</td>\n",
       "      <td>CHI</td>\n",
       "      <td>0,0477000</td>\n",
       "      <td>45,41</td>\n",
       "      <td>2,16</td>\n",
       "    </tr>\n",
       "    <tr>\n",
       "      <th>4</th>\n",
       "      <td>97141</td>\n",
       "      <td>20078.0</td>\n",
       "      <td>PASTA LUBRIFICANTE PARA TUBOS E CONEXOES COM J...</td>\n",
       "      <td>UN</td>\n",
       "      <td>0,0046000</td>\n",
       "      <td>23,15</td>\n",
       "      <td>0,10</td>\n",
       "    </tr>\n",
       "    <tr>\n",
       "      <th>...</th>\n",
       "      <td>...</td>\n",
       "      <td>...</td>\n",
       "      <td>...</td>\n",
       "      <td>...</td>\n",
       "      <td>...</td>\n",
       "      <td>...</td>\n",
       "      <td>...</td>\n",
       "    </tr>\n",
       "    <tr>\n",
       "      <th>42047</th>\n",
       "      <td>101460</td>\n",
       "      <td>40864.0</td>\n",
       "      <td>SEGURO - MENSALISTA (COLETADO CAIXA)</td>\n",
       "      <td>MES</td>\n",
       "      <td>1,0000000</td>\n",
       "      <td>11,13</td>\n",
       "      <td>11,13</td>\n",
       "    </tr>\n",
       "    <tr>\n",
       "      <th>42048</th>\n",
       "      <td>101460</td>\n",
       "      <td>41096.0</td>\n",
       "      <td>VIGIA DIURNO (MENSALISTA)</td>\n",
       "      <td>MES</td>\n",
       "      <td>1,0000000</td>\n",
       "      <td>1.673,15</td>\n",
       "      <td>1.673,15</td>\n",
       "    </tr>\n",
       "    <tr>\n",
       "      <th>42049</th>\n",
       "      <td>101460</td>\n",
       "      <td>43479.0</td>\n",
       "      <td>FERRAMENTAS - FAMILIA SERVENTE - MENSALISTA (E...</td>\n",
       "      <td>MES</td>\n",
       "      <td>1,0000000</td>\n",
       "      <td>76,97</td>\n",
       "      <td>76,97</td>\n",
       "    </tr>\n",
       "    <tr>\n",
       "      <th>42050</th>\n",
       "      <td>101460</td>\n",
       "      <td>43503.0</td>\n",
       "      <td>EPI - FAMILIA SERVENTE - MENSALISTA (ENCARGOS ...</td>\n",
       "      <td>MES</td>\n",
       "      <td>1,0000000</td>\n",
       "      <td>191,25</td>\n",
       "      <td>191,25</td>\n",
       "    </tr>\n",
       "    <tr>\n",
       "      <th>42051</th>\n",
       "      <td>101460</td>\n",
       "      <td>101372.0</td>\n",
       "      <td>CURSO DE CAPACITAÇÃO PARA VIGIA DIURNO (ENCARG...</td>\n",
       "      <td>MES</td>\n",
       "      <td>1,0000000</td>\n",
       "      <td>4,68</td>\n",
       "      <td>4,68</td>\n",
       "    </tr>\n",
       "  </tbody>\n",
       "</table>\n",
       "<p>42052 rows × 7 columns</p>\n",
       "</div>"
      ],
      "text/plain": [
       "      CODIGO DA COMPOSICAO  CODIGO ITEM  \\\n",
       "0                      NaN          NaN   \n",
       "1                    97141          NaN   \n",
       "2                    97141       5678.0   \n",
       "3                    97141       5679.0   \n",
       "4                    97141      20078.0   \n",
       "...                    ...          ...   \n",
       "42047               101460      40864.0   \n",
       "42048               101460      41096.0   \n",
       "42049               101460      43479.0   \n",
       "42050               101460      43503.0   \n",
       "42051               101460     101372.0   \n",
       "\n",
       "                                          DESCRIÇÃO ITEM UNIDADE ITEM  \\\n",
       "0                                                    NaN          NaN   \n",
       "1                                                    NaN          NaN   \n",
       "2      RETROESCAVADEIRA SOBRE RODAS COM CARREGADEIRA,...          CHP   \n",
       "3      RETROESCAVADEIRA SOBRE RODAS COM CARREGADEIRA,...          CHI   \n",
       "4      PASTA LUBRIFICANTE PARA TUBOS E CONEXOES COM J...           UN   \n",
       "...                                                  ...          ...   \n",
       "42047               SEGURO - MENSALISTA (COLETADO CAIXA)          MES   \n",
       "42048                          VIGIA DIURNO (MENSALISTA)          MES   \n",
       "42049  FERRAMENTAS - FAMILIA SERVENTE - MENSALISTA (E...          MES   \n",
       "42050  EPI - FAMILIA SERVENTE - MENSALISTA (ENCARGOS ...          MES   \n",
       "42051  CURSO DE CAPACITAÇÃO PARA VIGIA DIURNO (ENCARG...          MES   \n",
       "\n",
       "      COEFICIENTE PRECO UNITARIO CUSTO TOTAL.1  \n",
       "0             NaN            NaN           NaN  \n",
       "1             NaN            NaN           NaN  \n",
       "2       0,0099000          97,30          0,96  \n",
       "3       0,0477000          45,41          2,16  \n",
       "4       0,0046000          23,15          0,10  \n",
       "...           ...            ...           ...  \n",
       "42047   1,0000000          11,13         11,13  \n",
       "42048   1,0000000       1.673,15      1.673,15  \n",
       "42049   1,0000000          76,97         76,97  \n",
       "42050   1,0000000         191,25        191,25  \n",
       "42051   1,0000000           4,68          4,68  \n",
       "\n",
       "[42052 rows x 7 columns]"
      ]
     },
     "execution_count": 33,
     "metadata": {},
     "output_type": "execute_result"
    }
   ],
   "source": [
    "sinapi_analitica = sinapi_analitica[['CODIGO DA COMPOSICAO', 'CODIGO ITEM', 'DESCRIÇÃO ITEM', 'UNIDADE ITEM', 'COEFICIENTE', 'PRECO UNITARIO', 'CUSTO TOTAL.1']]\n",
    "sinapi_analitica"
   ]
  },
  {
   "cell_type": "markdown",
   "metadata": {},
   "source": [
    "##### Eliminação de dados nulos"
   ]
  },
  {
   "cell_type": "markdown",
   "metadata": {},
   "source": [
    "O número de itens nulos é apresentado a seguir."
   ]
  },
  {
   "cell_type": "code",
   "execution_count": 34,
   "metadata": {},
   "outputs": [
    {
     "data": {
      "text/plain": [
       "CODIGO DA COMPOSICAO       1\n",
       "CODIGO ITEM             6814\n",
       "DESCRIÇÃO ITEM          6814\n",
       "UNIDADE ITEM            6814\n",
       "COEFICIENTE             6814\n",
       "PRECO UNITARIO          6814\n",
       "CUSTO TOTAL.1           6814\n",
       "dtype: int64"
      ]
     },
     "execution_count": 34,
     "metadata": {},
     "output_type": "execute_result"
    }
   ],
   "source": [
    "sinapi_analitica.isna().sum()"
   ]
  },
  {
   "cell_type": "markdown",
   "metadata": {},
   "source": [
    "Constata-se a presença de diversos valores nulos, apresentados na tabela abaixo."
   ]
  },
  {
   "cell_type": "code",
   "execution_count": 35,
   "metadata": {},
   "outputs": [
    {
     "data": {
      "text/html": [
       "<div>\n",
       "<style scoped>\n",
       "    .dataframe tbody tr th:only-of-type {\n",
       "        vertical-align: middle;\n",
       "    }\n",
       "\n",
       "    .dataframe tbody tr th {\n",
       "        vertical-align: top;\n",
       "    }\n",
       "\n",
       "    .dataframe thead th {\n",
       "        text-align: right;\n",
       "    }\n",
       "</style>\n",
       "<table border=\"1\" class=\"dataframe\">\n",
       "  <thead>\n",
       "    <tr style=\"text-align: right;\">\n",
       "      <th></th>\n",
       "      <th>CODIGO DA COMPOSICAO</th>\n",
       "      <th>CODIGO ITEM</th>\n",
       "      <th>DESCRIÇÃO ITEM</th>\n",
       "      <th>UNIDADE ITEM</th>\n",
       "      <th>COEFICIENTE</th>\n",
       "      <th>PRECO UNITARIO</th>\n",
       "      <th>CUSTO TOTAL.1</th>\n",
       "    </tr>\n",
       "  </thead>\n",
       "  <tbody>\n",
       "    <tr>\n",
       "      <th>0</th>\n",
       "      <td>NaN</td>\n",
       "      <td>NaN</td>\n",
       "      <td>NaN</td>\n",
       "      <td>NaN</td>\n",
       "      <td>NaN</td>\n",
       "      <td>NaN</td>\n",
       "      <td>NaN</td>\n",
       "    </tr>\n",
       "    <tr>\n",
       "      <th>1</th>\n",
       "      <td>97141</td>\n",
       "      <td>NaN</td>\n",
       "      <td>NaN</td>\n",
       "      <td>NaN</td>\n",
       "      <td>NaN</td>\n",
       "      <td>NaN</td>\n",
       "      <td>NaN</td>\n",
       "    </tr>\n",
       "    <tr>\n",
       "      <th>7</th>\n",
       "      <td>97142</td>\n",
       "      <td>NaN</td>\n",
       "      <td>NaN</td>\n",
       "      <td>NaN</td>\n",
       "      <td>NaN</td>\n",
       "      <td>NaN</td>\n",
       "      <td>NaN</td>\n",
       "    </tr>\n",
       "    <tr>\n",
       "      <th>13</th>\n",
       "      <td>97143</td>\n",
       "      <td>NaN</td>\n",
       "      <td>NaN</td>\n",
       "      <td>NaN</td>\n",
       "      <td>NaN</td>\n",
       "      <td>NaN</td>\n",
       "      <td>NaN</td>\n",
       "    </tr>\n",
       "    <tr>\n",
       "      <th>19</th>\n",
       "      <td>97144</td>\n",
       "      <td>NaN</td>\n",
       "      <td>NaN</td>\n",
       "      <td>NaN</td>\n",
       "      <td>NaN</td>\n",
       "      <td>NaN</td>\n",
       "      <td>NaN</td>\n",
       "    </tr>\n",
       "    <tr>\n",
       "      <th>...</th>\n",
       "      <td>...</td>\n",
       "      <td>...</td>\n",
       "      <td>...</td>\n",
       "      <td>...</td>\n",
       "      <td>...</td>\n",
       "      <td>...</td>\n",
       "      <td>...</td>\n",
       "    </tr>\n",
       "    <tr>\n",
       "      <th>42009</th>\n",
       "      <td>101456</td>\n",
       "      <td>NaN</td>\n",
       "      <td>NaN</td>\n",
       "      <td>NaN</td>\n",
       "      <td>NaN</td>\n",
       "      <td>NaN</td>\n",
       "      <td>NaN</td>\n",
       "    </tr>\n",
       "    <tr>\n",
       "      <th>42016</th>\n",
       "      <td>101457</td>\n",
       "      <td>NaN</td>\n",
       "      <td>NaN</td>\n",
       "      <td>NaN</td>\n",
       "      <td>NaN</td>\n",
       "      <td>NaN</td>\n",
       "      <td>NaN</td>\n",
       "    </tr>\n",
       "    <tr>\n",
       "      <th>42025</th>\n",
       "      <td>101458</td>\n",
       "      <td>NaN</td>\n",
       "      <td>NaN</td>\n",
       "      <td>NaN</td>\n",
       "      <td>NaN</td>\n",
       "      <td>NaN</td>\n",
       "      <td>NaN</td>\n",
       "    </tr>\n",
       "    <tr>\n",
       "      <th>42034</th>\n",
       "      <td>101459</td>\n",
       "      <td>NaN</td>\n",
       "      <td>NaN</td>\n",
       "      <td>NaN</td>\n",
       "      <td>NaN</td>\n",
       "      <td>NaN</td>\n",
       "      <td>NaN</td>\n",
       "    </tr>\n",
       "    <tr>\n",
       "      <th>42043</th>\n",
       "      <td>101460</td>\n",
       "      <td>NaN</td>\n",
       "      <td>NaN</td>\n",
       "      <td>NaN</td>\n",
       "      <td>NaN</td>\n",
       "      <td>NaN</td>\n",
       "      <td>NaN</td>\n",
       "    </tr>\n",
       "  </tbody>\n",
       "</table>\n",
       "<p>6814 rows × 7 columns</p>\n",
       "</div>"
      ],
      "text/plain": [
       "      CODIGO DA COMPOSICAO  CODIGO ITEM DESCRIÇÃO ITEM UNIDADE ITEM  \\\n",
       "0                      NaN          NaN            NaN          NaN   \n",
       "1                    97141          NaN            NaN          NaN   \n",
       "7                    97142          NaN            NaN          NaN   \n",
       "13                   97143          NaN            NaN          NaN   \n",
       "19                   97144          NaN            NaN          NaN   \n",
       "...                    ...          ...            ...          ...   \n",
       "42009               101456          NaN            NaN          NaN   \n",
       "42016               101457          NaN            NaN          NaN   \n",
       "42025               101458          NaN            NaN          NaN   \n",
       "42034               101459          NaN            NaN          NaN   \n",
       "42043               101460          NaN            NaN          NaN   \n",
       "\n",
       "      COEFICIENTE PRECO UNITARIO CUSTO TOTAL.1  \n",
       "0             NaN            NaN           NaN  \n",
       "1             NaN            NaN           NaN  \n",
       "7             NaN            NaN           NaN  \n",
       "13            NaN            NaN           NaN  \n",
       "19            NaN            NaN           NaN  \n",
       "...           ...            ...           ...  \n",
       "42009         NaN            NaN           NaN  \n",
       "42016         NaN            NaN           NaN  \n",
       "42025         NaN            NaN           NaN  \n",
       "42034         NaN            NaN           NaN  \n",
       "42043         NaN            NaN           NaN  \n",
       "\n",
       "[6814 rows x 7 columns]"
      ]
     },
     "execution_count": 35,
     "metadata": {},
     "output_type": "execute_result"
    }
   ],
   "source": [
    "sinapi_analitica.loc[sinapi_analitica['CODIGO ITEM'].isnull()]"
   ]
  },
  {
   "cell_type": "markdown",
   "metadata": {},
   "source": [
    "Nota-se que as linhas nulas correspondem à primeira linha do dataframe, assim como o número de composições sintéticas SINAPI encontradas anteriormente. Isso é exemplificado pela composição abaixo."
   ]
  },
  {
   "cell_type": "code",
   "execution_count": 36,
   "metadata": {},
   "outputs": [
    {
     "data": {
      "text/html": [
       "<div>\n",
       "<style scoped>\n",
       "    .dataframe tbody tr th:only-of-type {\n",
       "        vertical-align: middle;\n",
       "    }\n",
       "\n",
       "    .dataframe tbody tr th {\n",
       "        vertical-align: top;\n",
       "    }\n",
       "\n",
       "    .dataframe thead th {\n",
       "        text-align: right;\n",
       "    }\n",
       "</style>\n",
       "<table border=\"1\" class=\"dataframe\">\n",
       "  <thead>\n",
       "    <tr style=\"text-align: right;\">\n",
       "      <th></th>\n",
       "      <th>CODIGO DA COMPOSICAO</th>\n",
       "      <th>CODIGO ITEM</th>\n",
       "      <th>DESCRIÇÃO ITEM</th>\n",
       "      <th>UNIDADE ITEM</th>\n",
       "      <th>COEFICIENTE</th>\n",
       "      <th>PRECO UNITARIO</th>\n",
       "      <th>CUSTO TOTAL.1</th>\n",
       "    </tr>\n",
       "  </thead>\n",
       "  <tbody>\n",
       "    <tr>\n",
       "      <th>1</th>\n",
       "      <td>97141</td>\n",
       "      <td>NaN</td>\n",
       "      <td>NaN</td>\n",
       "      <td>NaN</td>\n",
       "      <td>NaN</td>\n",
       "      <td>NaN</td>\n",
       "      <td>NaN</td>\n",
       "    </tr>\n",
       "    <tr>\n",
       "      <th>2</th>\n",
       "      <td>97141</td>\n",
       "      <td>5678.0</td>\n",
       "      <td>RETROESCAVADEIRA SOBRE RODAS COM CARREGADEIRA,...</td>\n",
       "      <td>CHP</td>\n",
       "      <td>0,0099000</td>\n",
       "      <td>97,30</td>\n",
       "      <td>0,96</td>\n",
       "    </tr>\n",
       "    <tr>\n",
       "      <th>3</th>\n",
       "      <td>97141</td>\n",
       "      <td>5679.0</td>\n",
       "      <td>RETROESCAVADEIRA SOBRE RODAS COM CARREGADEIRA,...</td>\n",
       "      <td>CHI</td>\n",
       "      <td>0,0477000</td>\n",
       "      <td>45,41</td>\n",
       "      <td>2,16</td>\n",
       "    </tr>\n",
       "    <tr>\n",
       "      <th>4</th>\n",
       "      <td>97141</td>\n",
       "      <td>20078.0</td>\n",
       "      <td>PASTA LUBRIFICANTE PARA TUBOS E CONEXOES COM J...</td>\n",
       "      <td>UN</td>\n",
       "      <td>0,0046000</td>\n",
       "      <td>23,15</td>\n",
       "      <td>0,10</td>\n",
       "    </tr>\n",
       "    <tr>\n",
       "      <th>5</th>\n",
       "      <td>97141</td>\n",
       "      <td>88246.0</td>\n",
       "      <td>ASSENTADOR DE TUBOS COM ENCARGOS COMPLEMENTARES</td>\n",
       "      <td>H</td>\n",
       "      <td>0,0905000</td>\n",
       "      <td>26,45</td>\n",
       "      <td>2,39</td>\n",
       "    </tr>\n",
       "    <tr>\n",
       "      <th>6</th>\n",
       "      <td>97141</td>\n",
       "      <td>88316.0</td>\n",
       "      <td>SERVENTE COM ENCARGOS COMPLEMENTARES</td>\n",
       "      <td>H</td>\n",
       "      <td>0,0905000</td>\n",
       "      <td>13,67</td>\n",
       "      <td>1,23</td>\n",
       "    </tr>\n",
       "  </tbody>\n",
       "</table>\n",
       "</div>"
      ],
      "text/plain": [
       "  CODIGO DA COMPOSICAO  CODIGO ITEM  \\\n",
       "1                97141          NaN   \n",
       "2                97141       5678.0   \n",
       "3                97141       5679.0   \n",
       "4                97141      20078.0   \n",
       "5                97141      88246.0   \n",
       "6                97141      88316.0   \n",
       "\n",
       "                                      DESCRIÇÃO ITEM UNIDADE ITEM COEFICIENTE  \\\n",
       "1                                                NaN          NaN         NaN   \n",
       "2  RETROESCAVADEIRA SOBRE RODAS COM CARREGADEIRA,...          CHP   0,0099000   \n",
       "3  RETROESCAVADEIRA SOBRE RODAS COM CARREGADEIRA,...          CHI   0,0477000   \n",
       "4  PASTA LUBRIFICANTE PARA TUBOS E CONEXOES COM J...           UN   0,0046000   \n",
       "5    ASSENTADOR DE TUBOS COM ENCARGOS COMPLEMENTARES            H   0,0905000   \n",
       "6               SERVENTE COM ENCARGOS COMPLEMENTARES            H   0,0905000   \n",
       "\n",
       "  PRECO UNITARIO CUSTO TOTAL.1  \n",
       "1            NaN           NaN  \n",
       "2          97,30          0,96  \n",
       "3          45,41          2,16  \n",
       "4          23,15          0,10  \n",
       "5          26,45          2,39  \n",
       "6          13,67          1,23  "
      ]
     },
     "execution_count": 36,
     "metadata": {},
     "output_type": "execute_result"
    }
   ],
   "source": [
    "sinapi_analitica.loc[sinapi_analitica['CODIGO DA COMPOSICAO'] == '97141']"
   ]
  },
  {
   "cell_type": "markdown",
   "metadata": {},
   "source": [
    "A primeira linha de cada composição analítica corresponde aos dados referentes à composição sintética."
   ]
  },
  {
   "cell_type": "code",
   "execution_count": 37,
   "metadata": {},
   "outputs": [
    {
     "data": {
      "text/html": [
       "<div>\n",
       "<style scoped>\n",
       "    .dataframe tbody tr th:only-of-type {\n",
       "        vertical-align: middle;\n",
       "    }\n",
       "\n",
       "    .dataframe tbody tr th {\n",
       "        vertical-align: top;\n",
       "    }\n",
       "\n",
       "    .dataframe thead th {\n",
       "        text-align: right;\n",
       "    }\n",
       "</style>\n",
       "<table border=\"1\" class=\"dataframe\">\n",
       "  <thead>\n",
       "    <tr style=\"text-align: right;\">\n",
       "      <th></th>\n",
       "      <th>CODIGO DA COMPOSICAO</th>\n",
       "      <th>CODIGO ITEM</th>\n",
       "      <th>DESCRIÇÃO ITEM</th>\n",
       "      <th>UNIDADE ITEM</th>\n",
       "      <th>COEFICIENTE</th>\n",
       "      <th>PRECO UNITARIO</th>\n",
       "      <th>CUSTO TOTAL.1</th>\n",
       "    </tr>\n",
       "  </thead>\n",
       "  <tbody>\n",
       "    <tr>\n",
       "      <th>0</th>\n",
       "      <td>97141</td>\n",
       "      <td>5678.0</td>\n",
       "      <td>RETROESCAVADEIRA SOBRE RODAS COM CARREGADEIRA,...</td>\n",
       "      <td>CHP</td>\n",
       "      <td>0,0099000</td>\n",
       "      <td>97,30</td>\n",
       "      <td>0,96</td>\n",
       "    </tr>\n",
       "    <tr>\n",
       "      <th>1</th>\n",
       "      <td>97141</td>\n",
       "      <td>5679.0</td>\n",
       "      <td>RETROESCAVADEIRA SOBRE RODAS COM CARREGADEIRA,...</td>\n",
       "      <td>CHI</td>\n",
       "      <td>0,0477000</td>\n",
       "      <td>45,41</td>\n",
       "      <td>2,16</td>\n",
       "    </tr>\n",
       "    <tr>\n",
       "      <th>2</th>\n",
       "      <td>97141</td>\n",
       "      <td>20078.0</td>\n",
       "      <td>PASTA LUBRIFICANTE PARA TUBOS E CONEXOES COM J...</td>\n",
       "      <td>UN</td>\n",
       "      <td>0,0046000</td>\n",
       "      <td>23,15</td>\n",
       "      <td>0,10</td>\n",
       "    </tr>\n",
       "    <tr>\n",
       "      <th>3</th>\n",
       "      <td>97141</td>\n",
       "      <td>88246.0</td>\n",
       "      <td>ASSENTADOR DE TUBOS COM ENCARGOS COMPLEMENTARES</td>\n",
       "      <td>H</td>\n",
       "      <td>0,0905000</td>\n",
       "      <td>26,45</td>\n",
       "      <td>2,39</td>\n",
       "    </tr>\n",
       "    <tr>\n",
       "      <th>4</th>\n",
       "      <td>97141</td>\n",
       "      <td>88316.0</td>\n",
       "      <td>SERVENTE COM ENCARGOS COMPLEMENTARES</td>\n",
       "      <td>H</td>\n",
       "      <td>0,0905000</td>\n",
       "      <td>13,67</td>\n",
       "      <td>1,23</td>\n",
       "    </tr>\n",
       "    <tr>\n",
       "      <th>...</th>\n",
       "      <td>...</td>\n",
       "      <td>...</td>\n",
       "      <td>...</td>\n",
       "      <td>...</td>\n",
       "      <td>...</td>\n",
       "      <td>...</td>\n",
       "      <td>...</td>\n",
       "    </tr>\n",
       "    <tr>\n",
       "      <th>35233</th>\n",
       "      <td>101460</td>\n",
       "      <td>40864.0</td>\n",
       "      <td>SEGURO - MENSALISTA (COLETADO CAIXA)</td>\n",
       "      <td>MES</td>\n",
       "      <td>1,0000000</td>\n",
       "      <td>11,13</td>\n",
       "      <td>11,13</td>\n",
       "    </tr>\n",
       "    <tr>\n",
       "      <th>35234</th>\n",
       "      <td>101460</td>\n",
       "      <td>41096.0</td>\n",
       "      <td>VIGIA DIURNO (MENSALISTA)</td>\n",
       "      <td>MES</td>\n",
       "      <td>1,0000000</td>\n",
       "      <td>1.673,15</td>\n",
       "      <td>1.673,15</td>\n",
       "    </tr>\n",
       "    <tr>\n",
       "      <th>35235</th>\n",
       "      <td>101460</td>\n",
       "      <td>43479.0</td>\n",
       "      <td>FERRAMENTAS - FAMILIA SERVENTE - MENSALISTA (E...</td>\n",
       "      <td>MES</td>\n",
       "      <td>1,0000000</td>\n",
       "      <td>76,97</td>\n",
       "      <td>76,97</td>\n",
       "    </tr>\n",
       "    <tr>\n",
       "      <th>35236</th>\n",
       "      <td>101460</td>\n",
       "      <td>43503.0</td>\n",
       "      <td>EPI - FAMILIA SERVENTE - MENSALISTA (ENCARGOS ...</td>\n",
       "      <td>MES</td>\n",
       "      <td>1,0000000</td>\n",
       "      <td>191,25</td>\n",
       "      <td>191,25</td>\n",
       "    </tr>\n",
       "    <tr>\n",
       "      <th>35237</th>\n",
       "      <td>101460</td>\n",
       "      <td>101372.0</td>\n",
       "      <td>CURSO DE CAPACITAÇÃO PARA VIGIA DIURNO (ENCARG...</td>\n",
       "      <td>MES</td>\n",
       "      <td>1,0000000</td>\n",
       "      <td>4,68</td>\n",
       "      <td>4,68</td>\n",
       "    </tr>\n",
       "  </tbody>\n",
       "</table>\n",
       "<p>35238 rows × 7 columns</p>\n",
       "</div>"
      ],
      "text/plain": [
       "      CODIGO DA COMPOSICAO  CODIGO ITEM  \\\n",
       "0                    97141       5678.0   \n",
       "1                    97141       5679.0   \n",
       "2                    97141      20078.0   \n",
       "3                    97141      88246.0   \n",
       "4                    97141      88316.0   \n",
       "...                    ...          ...   \n",
       "35233               101460      40864.0   \n",
       "35234               101460      41096.0   \n",
       "35235               101460      43479.0   \n",
       "35236               101460      43503.0   \n",
       "35237               101460     101372.0   \n",
       "\n",
       "                                          DESCRIÇÃO ITEM UNIDADE ITEM  \\\n",
       "0      RETROESCAVADEIRA SOBRE RODAS COM CARREGADEIRA,...          CHP   \n",
       "1      RETROESCAVADEIRA SOBRE RODAS COM CARREGADEIRA,...          CHI   \n",
       "2      PASTA LUBRIFICANTE PARA TUBOS E CONEXOES COM J...           UN   \n",
       "3        ASSENTADOR DE TUBOS COM ENCARGOS COMPLEMENTARES            H   \n",
       "4                   SERVENTE COM ENCARGOS COMPLEMENTARES            H   \n",
       "...                                                  ...          ...   \n",
       "35233               SEGURO - MENSALISTA (COLETADO CAIXA)          MES   \n",
       "35234                          VIGIA DIURNO (MENSALISTA)          MES   \n",
       "35235  FERRAMENTAS - FAMILIA SERVENTE - MENSALISTA (E...          MES   \n",
       "35236  EPI - FAMILIA SERVENTE - MENSALISTA (ENCARGOS ...          MES   \n",
       "35237  CURSO DE CAPACITAÇÃO PARA VIGIA DIURNO (ENCARG...          MES   \n",
       "\n",
       "      COEFICIENTE PRECO UNITARIO CUSTO TOTAL.1  \n",
       "0       0,0099000          97,30          0,96  \n",
       "1       0,0477000          45,41          2,16  \n",
       "2       0,0046000          23,15          0,10  \n",
       "3       0,0905000          26,45          2,39  \n",
       "4       0,0905000          13,67          1,23  \n",
       "...           ...            ...           ...  \n",
       "35233   1,0000000          11,13         11,13  \n",
       "35234   1,0000000       1.673,15      1.673,15  \n",
       "35235   1,0000000          76,97         76,97  \n",
       "35236   1,0000000         191,25        191,25  \n",
       "35237   1,0000000           4,68          4,68  \n",
       "\n",
       "[35238 rows x 7 columns]"
      ]
     },
     "execution_count": 37,
     "metadata": {},
     "output_type": "execute_result"
    }
   ],
   "source": [
    "sinapi_analitica.dropna(inplace=True)\n",
    "sinapi_analitica.reset_index(drop=True, inplace=True)\n",
    "sinapi_analitica"
   ]
  },
  {
   "cell_type": "markdown",
   "metadata": {},
   "source": [
    "##### Conversão de tipo"
   ]
  },
  {
   "cell_type": "markdown",
   "metadata": {},
   "source": [
    "As colunas preço unitário e custo total devem ser convertidas para float."
   ]
  },
  {
   "cell_type": "code",
   "execution_count": 38,
   "metadata": {},
   "outputs": [
    {
     "data": {
      "text/plain": [
       "CODIGO DA COMPOSICAO     object\n",
       "CODIGO ITEM             float64\n",
       "DESCRIÇÃO ITEM           object\n",
       "UNIDADE ITEM             object\n",
       "COEFICIENTE              object\n",
       "PRECO UNITARIO           object\n",
       "CUSTO TOTAL.1            object\n",
       "dtype: object"
      ]
     },
     "execution_count": 38,
     "metadata": {},
     "output_type": "execute_result"
    }
   ],
   "source": [
    "sinapi_analitica.dtypes"
   ]
  },
  {
   "cell_type": "markdown",
   "metadata": {},
   "source": [
    "Os códigos de itens se apresentam em formato numérico, logo optou-se por convertê-los para int."
   ]
  },
  {
   "cell_type": "code",
   "execution_count": 39,
   "metadata": {},
   "outputs": [],
   "source": [
    "sinapi_analitica['CODIGO ITEM'] = sinapi_analitica['CODIGO ITEM'].astype(int)"
   ]
  },
  {
   "cell_type": "markdown",
   "metadata": {},
   "source": [
    "A conversão  das colunas de preço e custo para float é apresentada abaixo."
   ]
  },
  {
   "cell_type": "code",
   "execution_count": 40,
   "metadata": {},
   "outputs": [],
   "source": [
    "sinapi_analitica['PRECO UNITARIO'] = helpers.convert_decimal_separator(sinapi_analitica['PRECO UNITARIO'])\n",
    "sinapi_analitica['CUSTO TOTAL.1'] = helpers.convert_decimal_separator(sinapi_analitica['CUSTO TOTAL.1'])"
   ]
  },
  {
   "cell_type": "markdown",
   "metadata": {},
   "source": [
    "Após a conversão, os tipos de dados são indicados."
   ]
  },
  {
   "cell_type": "code",
   "execution_count": 41,
   "metadata": {},
   "outputs": [
    {
     "data": {
      "text/plain": [
       "CODIGO DA COMPOSICAO     object\n",
       "CODIGO ITEM               int64\n",
       "DESCRIÇÃO ITEM           object\n",
       "UNIDADE ITEM             object\n",
       "COEFICIENTE              object\n",
       "PRECO UNITARIO          float64\n",
       "CUSTO TOTAL.1           float64\n",
       "dtype: object"
      ]
     },
     "execution_count": 41,
     "metadata": {},
     "output_type": "execute_result"
    }
   ],
   "source": [
    "sinapi_analitica.dtypes"
   ]
  },
  {
   "cell_type": "markdown",
   "metadata": {},
   "source": [
    "Percebe-se que a conversão foi bem-sucedida."
   ]
  },
  {
   "cell_type": "markdown",
   "metadata": {},
   "source": [
    "# 3 Conclusão <a id=\"conclusion\"></a>"
   ]
  },
  {
   "cell_type": "markdown",
   "metadata": {},
   "source": [
    "<div style=\"text-align:justify;\">\n",
    "Três arquivos foram obtidos através das fontes oficiais: composições sintéticas e analíticas GOINFRA NOV/2020 e analíticas SINAPI DEZ/2020. Foi possível constatar uma quantidade significativa de dados nulos nas tabelas da GOINFRA, o que demandou um tratamento através da exclusão dessas linhas. Houve ainda a eliminação de diversas colunas nulas, cuja existência se deve à mesclagem de células no excel. Além disso, foi necessário efetuar conversão na coluna de códigos da tabela sintética de 'object' para 'int'.\n",
    "</div>"
   ]
  },
  {
   "cell_type": "markdown",
   "metadata": {},
   "source": [
    "<div style=\"text-align:justify;\">\n",
    "A tabela sintética da SINAPI foi obtida a partir da analítica. Na tabela sintética, foi efetuada uma segmentação das colunas, de modo a incluir apenas as colunas de código, descrição, unidade e custo total. A seguir, foi efetuada uma remoção de valores duplicados, totalizando 6813 registros. A coluna de custo total foi convertida para o tipo 'float'.\n",
    "</div>"
   ]
  },
  {
   "cell_type": "markdown",
   "metadata": {},
   "source": [
    "<div style=\"text-align:justify;\">\n",
    "De forma semelhante à sintética, a tabela analítica sofreu segmentação de colunas. Foram incluídas apenas as colunas de códigos da composição e item, descrição, unidade, coeficiente, preço unitário e custo total. Linhas com códigos nulos foram removidas e foi efetuada conversão do código do item para int e dos preço e custo para float.\n",
    "</div>"
   ]
  },
  {
   "cell_type": "markdown",
   "metadata": {},
   "source": [
    "<div style=\"text-align:justify;\">\n",
    "O tratamento aplicado aos dados pode ser reproduzido com a publicação de novas tabelas de referência.\n",
    "</div>"
   ]
  }
 ],
 "metadata": {
  "kernelspec": {
   "display_name": "Python 3",
   "language": "python",
   "name": "python3"
  },
  "language_info": {
   "codemirror_mode": {
    "name": "ipython",
    "version": 3
   },
   "file_extension": ".py",
   "mimetype": "text/x-python",
   "name": "python",
   "nbconvert_exporter": "python",
   "pygments_lexer": "ipython3",
   "version": "3.9.1"
  }
 },
 "nbformat": 4,
 "nbformat_minor": 4
}
